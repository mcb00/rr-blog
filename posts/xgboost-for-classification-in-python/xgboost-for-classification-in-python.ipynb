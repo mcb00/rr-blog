{
 "cells": [
  {
   "cell_type": "raw",
   "metadata": {},
   "source": [
    "---\n",
    "title: XGBoost for Binary and Multi-Class Classification in Python\n",
    "categories:\n",
    "- python\n",
    "- tutorial\n",
    "- gradient boosting\n",
    "- xgboost\n",
    "date: '2023-11-24'\n",
    "description: A step-bystep tutorial on binary and multi-class classification with XGBoost in python using sklearn and the xgboost library\n",
    "draft: false\n",
    "---\n",
    "\n"
   ]
  },
  {
   "cell_type": "markdown",
   "metadata": {},
   "source": [
    "Now that we've covered [regression](/posts/xgboost-for-regression-in-python/),\n",
    "it's high time for a tutorial on solving classification problems in python with XGBoost.\n",
    "Today we'll run through two examples: one for binary classification and another for multi-class classification.\n",
    "We're going to use ready-to-train datasets from the scikit-learn datasets module for illustration, so check out the earlier post for [details on preparing data for use in XGBoost](/posts/xgboost-for-regression-in-python/).\n",
    "After covering the training APIs from both scikit-learn and the native xgboost python library, we'll have a look at some performance metrics specific to both binary and multiclass classification.\n",
    "\n",
    "Of course, you might also enjoy a deep dive on [the math behind XGBoost](/posts/xgboost-explained/)\n",
    "or [the implementation details of multi-class gradient boosting](/posts/gradient-boosting-multi-class-classification-from-scratch/),\n",
    "or you might want to check out the [full series on gradient boosting](/gradient-boosting-series/).\n",
    "\n",
    "On to classification with XGBoost!\n",
    "\n"
   ]
  },
  {
   "cell_type": "markdown",
   "metadata": {},
   "source": [
    "## Binary Classification"
   ]
  },
  {
   "cell_type": "code",
   "execution_count": 1,
   "metadata": {},
   "outputs": [],
   "source": [
    "import numpy as np \n",
    "import pandas as pd \n",
    "import matplotlib.pyplot as plt \n",
    "from sklearn import datasets"
   ]
  },
  {
   "cell_type": "markdown",
   "metadata": {},
   "source": [
    "### Breast Cancer Dataset\n",
    "\n",
    "[scikit-learn breast cancer dataset](https://scikit-learn.org/stable/modules/generated/sklearn.datasets.load_breast_cancer.html#sklearn.datasets.load_breast_cancer)\n",
    "\n",
    "[the paper](https://pubmed.ncbi.nlm.nih.gov/8168063/)\n",
    "\n",
    "569 observations, they got 97% accuracy with 10-fold cross validation."
   ]
  },
  {
   "cell_type": "code",
   "execution_count": 2,
   "metadata": {},
   "outputs": [
    {
     "name": "stdout",
     "output_type": "stream",
     "text": [
      "<class 'pandas.core.frame.DataFrame'>\n",
      "RangeIndex: 569 entries, 0 to 568\n",
      "Data columns (total 31 columns):\n",
      " #   Column                   Non-Null Count  Dtype  \n",
      "---  ------                   --------------  -----  \n",
      " 0   mean radius              569 non-null    float64\n",
      " 1   mean texture             569 non-null    float64\n",
      " 2   mean perimeter           569 non-null    float64\n",
      " 3   mean area                569 non-null    float64\n",
      " 4   mean smoothness          569 non-null    float64\n",
      " 5   mean compactness         569 non-null    float64\n",
      " 6   mean concavity           569 non-null    float64\n",
      " 7   mean concave points      569 non-null    float64\n",
      " 8   mean symmetry            569 non-null    float64\n",
      " 9   mean fractal dimension   569 non-null    float64\n",
      " 10  radius error             569 non-null    float64\n",
      " 11  texture error            569 non-null    float64\n",
      " 12  perimeter error          569 non-null    float64\n",
      " 13  area error               569 non-null    float64\n",
      " 14  smoothness error         569 non-null    float64\n",
      " 15  compactness error        569 non-null    float64\n",
      " 16  concavity error          569 non-null    float64\n",
      " 17  concave points error     569 non-null    float64\n",
      " 18  symmetry error           569 non-null    float64\n",
      " 19  fractal dimension error  569 non-null    float64\n",
      " 20  worst radius             569 non-null    float64\n",
      " 21  worst texture            569 non-null    float64\n",
      " 22  worst perimeter          569 non-null    float64\n",
      " 23  worst area               569 non-null    float64\n",
      " 24  worst smoothness         569 non-null    float64\n",
      " 25  worst compactness        569 non-null    float64\n",
      " 26  worst concavity          569 non-null    float64\n",
      " 27  worst concave points     569 non-null    float64\n",
      " 28  worst symmetry           569 non-null    float64\n",
      " 29  worst fractal dimension  569 non-null    float64\n",
      " 30  target                   569 non-null    int64  \n",
      "dtypes: float64(30), int64(1)\n",
      "memory usage: 137.9 KB\n"
     ]
    }
   ],
   "source": [
    "dbunch = datasets.load_breast_cancer(as_frame=True)\n",
    "df = dbunch.frame\n",
    "features = dbunch.feature_names \n",
    "target = 'target' \n",
    "target_names = dbunch.target_names \n",
    "df.info()"
   ]
  },
  {
   "cell_type": "code",
   "execution_count": 3,
   "metadata": {},
   "outputs": [
    {
     "name": "stdout",
     "output_type": "stream",
     "text": [
      "0: malignant\n",
      "1: benign\n"
     ]
    }
   ],
   "source": [
    "for i, label in enumerate(target_names):\n",
    "    print(f'{i}: {label}')"
   ]
  },
  {
   "cell_type": "code",
   "execution_count": 4,
   "metadata": {},
   "outputs": [
    {
     "data": {
      "text/plain": [
       "<AxesSubplot:>"
      ]
     },
     "execution_count": 4,
     "metadata": {},
     "output_type": "execute_result"
    },
    {
     "data": {
      "image/png": "[encoded data removed]",
      "text/plain": [
       "<Figure size 640x480 with 1 Axes>"
      ]
     },
     "metadata": {},
     "output_type": "display_data"
    }
   ],
   "source": [
    "df.target.value_counts().sort_index().plot.bar()"
   ]
  },
  {
   "cell_type": "code",
   "execution_count": 5,
   "metadata": {},
   "outputs": [
    {
     "data": {
      "text/plain": [
       "((519, 31), (50, 31))"
      ]
     },
     "execution_count": 5,
     "metadata": {},
     "output_type": "execute_result"
    }
   ],
   "source": [
    "n_valid = 50 \n",
    "\n",
    "train_df, valid_df = df[:-n_valid], df[-n_valid:] \n",
    "train_df.shape, valid_df.shape"
   ]
  },
  {
   "cell_type": "markdown",
   "metadata": {},
   "source": [
    "[XGBoost parameters](https://xgboost.readthedocs.io/en/stable/parameter.html)"
   ]
  },
  {
   "cell_type": "code",
   "execution_count": 6,
   "metadata": {},
   "outputs": [
    {
     "name": "stdout",
     "output_type": "stream",
     "text": [
      "[0]\tvalidation_0-logloss:0.46304\tvalidation_1-logloss:0.47318\n",
      "[10]\tvalidation_0-logloss:0.04542\tvalidation_1-logloss:0.08636\n",
      "[20]\tvalidation_0-logloss:0.01542\tvalidation_1-logloss:0.05761\n",
      "[30]\tvalidation_0-logloss:0.00986\tvalidation_1-logloss:0.04896\n",
      "[40]\tvalidation_0-logloss:0.00779\tvalidation_1-logloss:0.04021\n",
      "[49]\tvalidation_0-logloss:0.00672\tvalidation_1-logloss:0.03738\n"
     ]
    }
   ],
   "source": [
    "import xgboost as xgb \n",
    "\n",
    "# default values for important parameters\n",
    "params = {\n",
    "    'tree_method': 'exact',\n",
    "    'learning_rate': 0.3,\n",
    "    'max_depth': 6,\n",
    "    'min_child_weight': 1,\n",
    "    'subsample': 1,\n",
    "    'colsample_bynode': 1,\n",
    "    'objective': 'binary:logistic',\n",
    "}\n",
    "num_boost_round = 50\n",
    "\n",
    "# scikit-learn interface\n",
    "clf = xgb.XGBClassifier(n_estimators=num_boost_round, **params)\n",
    "clf.fit(train_df[features], train_df[target], \n",
    "        eval_set=[(train_df[features], train_df[target]), (valid_df[features], valid_df[target])], \n",
    "        verbose=10);"
   ]
  },
  {
   "cell_type": "markdown",
   "metadata": {},
   "source": [
    "### Metrics \n",
    "\n",
    "[scikit-learn metrics for c]lassification](https://scikit-learn.org/stable/modules/model_evaluation.html#classification-metrics)"
   ]
  },
  {
   "cell_type": "code",
   "execution_count": 7,
   "metadata": {},
   "outputs": [],
   "source": [
    "from sklearn import metrics "
   ]
  },
  {
   "cell_type": "code",
   "execution_count": 8,
   "metadata": {},
   "outputs": [],
   "source": [
    "y_true = valid_df[target]\n",
    "y_pred = clf.predict(valid_df[features])\n",
    "y_score = clf.predict_proba(valid_df[features])[:,1]"
   ]
  },
  {
   "cell_type": "code",
   "execution_count": 9,
   "metadata": {},
   "outputs": [
    {
     "data": {
      "text/plain": [
       "1.0"
      ]
     },
     "execution_count": 9,
     "metadata": {},
     "output_type": "execute_result"
    }
   ],
   "source": [
    "metrics.accuracy_score(y_true, y_pred)"
   ]
  },
  {
   "cell_type": "code",
   "execution_count": 10,
   "metadata": {},
   "outputs": [
    {
     "name": "stdout",
     "output_type": "stream",
     "text": [
      "              precision    recall  f1-score   support\n",
      "\n",
      "   malignant       1.00      1.00      1.00        10\n",
      "      benign       1.00      1.00      1.00        40\n",
      "\n",
      "    accuracy                           1.00        50\n",
      "   macro avg       1.00      1.00      1.00        50\n",
      "weighted avg       1.00      1.00      1.00        50\n",
      "\n"
     ]
    }
   ],
   "source": [
    "print(metrics.classification_report(y_true, y_pred, target_names=target_names))"
   ]
  },
  {
   "cell_type": "code",
   "execution_count": 11,
   "metadata": {},
   "outputs": [
    {
     "data": {
      "text/plain": [
       "1.0"
      ]
     },
     "execution_count": 11,
     "metadata": {},
     "output_type": "execute_result"
    }
   ],
   "source": [
    "metrics.roc_auc_score(y_true, y_score)"
   ]
  },
  {
   "cell_type": "markdown",
   "metadata": {},
   "source": [
    "## Multi-Class Classification"
   ]
  },
  {
   "cell_type": "markdown",
   "metadata": {},
   "source": [
    "### Forest Cover Type Dataset\n",
    "\n",
    "[scikit-learn data documentation](https://scikit-learn.org/stable/modules/generated/sklearn.datasets.fetch_covtype.html#sklearn.datasets.fetch_covtype)"
   ]
  },
  {
   "cell_type": "code",
   "execution_count": 85,
   "metadata": {},
   "outputs": [
    {
     "name": "stdout",
     "output_type": "stream",
     "text": [
      "<class 'pandas.core.frame.DataFrame'>\n",
      "RangeIndex: 581012 entries, 0 to 581011\n",
      "Data columns (total 55 columns):\n",
      " #   Column                              Non-Null Count   Dtype  \n",
      "---  ------                              --------------   -----  \n",
      " 0   Elevation                           581012 non-null  float64\n",
      " 1   Aspect                              581012 non-null  float64\n",
      " 2   Slope                               581012 non-null  float64\n",
      " 3   Horizontal_Distance_To_Hydrology    581012 non-null  float64\n",
      " 4   Vertical_Distance_To_Hydrology      581012 non-null  float64\n",
      " 5   Horizontal_Distance_To_Roadways     581012 non-null  float64\n",
      " 6   Hillshade_9am                       581012 non-null  float64\n",
      " 7   Hillshade_Noon                      581012 non-null  float64\n",
      " 8   Hillshade_3pm                       581012 non-null  float64\n",
      " 9   Horizontal_Distance_To_Fire_Points  581012 non-null  float64\n",
      " 10  Wilderness_Area_0                   581012 non-null  float64\n",
      " 11  Wilderness_Area_1                   581012 non-null  float64\n",
      " 12  Wilderness_Area_2                   581012 non-null  float64\n",
      " 13  Wilderness_Area_3                   581012 non-null  float64\n",
      " 14  Soil_Type_0                         581012 non-null  float64\n",
      " 15  Soil_Type_1                         581012 non-null  float64\n",
      " 16  Soil_Type_2                         581012 non-null  float64\n",
      " 17  Soil_Type_3                         581012 non-null  float64\n",
      " 18  Soil_Type_4                         581012 non-null  float64\n",
      " 19  Soil_Type_5                         581012 non-null  float64\n",
      " 20  Soil_Type_6                         581012 non-null  float64\n",
      " 21  Soil_Type_7                         581012 non-null  float64\n",
      " 22  Soil_Type_8                         581012 non-null  float64\n",
      " 23  Soil_Type_9                         581012 non-null  float64\n",
      " 24  Soil_Type_10                        581012 non-null  float64\n",
      " 25  Soil_Type_11                        581012 non-null  float64\n",
      " 26  Soil_Type_12                        581012 non-null  float64\n",
      " 27  Soil_Type_13                        581012 non-null  float64\n",
      " 28  Soil_Type_14                        581012 non-null  float64\n",
      " 29  Soil_Type_15                        581012 non-null  float64\n",
      " 30  Soil_Type_16                        581012 non-null  float64\n",
      " 31  Soil_Type_17                        581012 non-null  float64\n",
      " 32  Soil_Type_18                        581012 non-null  float64\n",
      " 33  Soil_Type_19                        581012 non-null  float64\n",
      " 34  Soil_Type_20                        581012 non-null  float64\n",
      " 35  Soil_Type_21                        581012 non-null  float64\n",
      " 36  Soil_Type_22                        581012 non-null  float64\n",
      " 37  Soil_Type_23                        581012 non-null  float64\n",
      " 38  Soil_Type_24                        581012 non-null  float64\n",
      " 39  Soil_Type_25                        581012 non-null  float64\n",
      " 40  Soil_Type_26                        581012 non-null  float64\n",
      " 41  Soil_Type_27                        581012 non-null  float64\n",
      " 42  Soil_Type_28                        581012 non-null  float64\n",
      " 43  Soil_Type_29                        581012 non-null  float64\n",
      " 44  Soil_Type_30                        581012 non-null  float64\n",
      " 45  Soil_Type_31                        581012 non-null  float64\n",
      " 46  Soil_Type_32                        581012 non-null  float64\n",
      " 47  Soil_Type_33                        581012 non-null  float64\n",
      " 48  Soil_Type_34                        581012 non-null  float64\n",
      " 49  Soil_Type_35                        581012 non-null  float64\n",
      " 50  Soil_Type_36                        581012 non-null  float64\n",
      " 51  Soil_Type_37                        581012 non-null  float64\n",
      " 52  Soil_Type_38                        581012 non-null  float64\n",
      " 53  Soil_Type_39                        581012 non-null  float64\n",
      " 54  Cover_Type                          581012 non-null  int32  \n",
      "dtypes: float64(54), int32(1)\n",
      "memory usage: 241.6 MB\n"
     ]
    }
   ],
   "source": [
    "dbunch = datasets.fetch_covtype(as_frame=True)\n",
    "df = dbunch.frame\n",
    "features = dbunch.feature_names \n",
    "df.info()"
   ]
  },
  {
   "cell_type": "code",
   "execution_count": 86,
   "metadata": {},
   "outputs": [
    {
     "data": {
      "text/plain": [
       "<AxesSubplot:>"
      ]
     },
     "execution_count": 86,
     "metadata": {},
     "output_type": "execute_result"
    },
    {
     "data": {
      "image/png": "[encoded data removed]",
      "text/plain": [
       "<Figure size 640x480 with 1 Axes>"
      ]
     },
     "metadata": {},
     "output_type": "display_data"
    }
   ],
   "source": [
    "df['Cover_Type'].value_counts().sort_index().plot.bar()"
   ]
  },
  {
   "cell_type": "code",
   "execution_count": 87,
   "metadata": {},
   "outputs": [],
   "source": [
    "from sklearn.preprocessing import LabelEncoder \n",
    "\n",
    "target = 'encoded'\n",
    "enc = LabelEncoder()\n",
    "df[target] = enc.fit_transform(df['Cover_Type'])"
   ]
  },
  {
   "cell_type": "code",
   "execution_count": 96,
   "metadata": {},
   "outputs": [
    {
     "data": {
      "text/plain": [
       "((561012, 56), (20000, 56))"
      ]
     },
     "execution_count": 96,
     "metadata": {},
     "output_type": "execute_result"
    }
   ],
   "source": [
    "def train_test_split_random(df, n_valid):\n",
    "    np.random.seed(42)\n",
    "    idx_sort = np.random.permutation(len(df))\n",
    "    idx_train, idx_test = idx_sort[:-n_valid], idx_sort[-n_valid:]\n",
    "    return df.iloc[idx_train, :], df.iloc[idx_test, :]\n",
    "\n",
    "train_df, valid_df = train_test_split_random(df, 20000)\n",
    "train_df.shape, valid_df.shape"
   ]
  },
  {
   "cell_type": "code",
   "execution_count": 110,
   "metadata": {},
   "outputs": [
    {
     "name": "stdout",
     "output_type": "stream",
     "text": [
      "[0]\ttrain-mlogloss:1.42072\tvalid-mlogloss:1.42131\n",
      "[9]\ttrain-mlogloss:0.60207\tvalid-mlogloss:0.60393\n"
     ]
    }
   ],
   "source": [
    "params = {\n",
    "    'tree_method': 'approx',\n",
    "    'learning_rate': 0.3,\n",
    "    'max_depth': 6,\n",
    "    'min_child_weight': 1,\n",
    "    'subsample': 1,\n",
    "    'colsample_bynode': 1,\n",
    "    'objective': 'multi:softprob',\n",
    "    'num_class': df[target].nunique()\n",
    "}\n",
    "num_boost_round = 10\n",
    "\n",
    "dtrain = xgb.DMatrix(label=train_df[target], data=train_df[features])\n",
    "dvalid = xgb.DMatrix(label=valid_df[target], data=valid_df[features])\n",
    "model = xgb.train(params=params, dtrain=dtrain, num_boost_round=num_boost_round,\n",
    "                  evals=[(dtrain, 'train'), (dvalid, 'valid')],\n",
    "                  verbose_eval=10)"
   ]
  },
  {
   "cell_type": "code",
   "execution_count": 111,
   "metadata": {},
   "outputs": [
    {
     "name": "stdout",
     "output_type": "stream",
     "text": [
      "[0]\tvalidation_0-mlogloss:1.42072\tvalidation_1-mlogloss:1.42131\n",
      "[9]\tvalidation_0-mlogloss:0.60207\tvalidation_1-mlogloss:0.60393\n"
     ]
    }
   ],
   "source": [
    "params = {\n",
    "    'tree_method': 'approx',\n",
    "    'learning_rate': 0.3,\n",
    "    'max_depth': 6,\n",
    "    'min_child_weight': 1,\n",
    "    'subsample': 1,\n",
    "    'colsample_bynode': 1,\n",
    "    'objective': 'multi:softprob',\n",
    "}\n",
    "num_boost_round = 10\n",
    "\n",
    "# scikit-learn interface\n",
    "clf = xgb.XGBClassifier(n_estimators=num_boost_round, **params)\n",
    "clf.fit(train_df[features], train_df[target], \n",
    "        eval_set=[(train_df[features], train_df[target]), (valid_df[features], valid_df[target])], \n",
    "        verbose=10);"
   ]
  },
  {
   "cell_type": "code",
   "execution_count": 112,
   "metadata": {},
   "outputs": [
    {
     "data": {
      "text/plain": [
       "((20000,), (20000,), (20000, 7))"
      ]
     },
     "execution_count": 112,
     "metadata": {},
     "output_type": "execute_result"
    }
   ],
   "source": [
    "y_true = valid_df[target]\n",
    "y_pred = clf.predict(valid_df[features])\n",
    "y_score = clf.predict_proba(valid_df[features])\n",
    "y_true.shape, y_pred.shape, y_score.shape"
   ]
  },
  {
   "cell_type": "code",
   "execution_count": 113,
   "metadata": {},
   "outputs": [
    {
     "data": {
      "text/plain": [
       "0.7763"
      ]
     },
     "execution_count": 113,
     "metadata": {},
     "output_type": "execute_result"
    }
   ],
   "source": [
    "metrics.accuracy_score(y_true, y_pred)"
   ]
  },
  {
   "cell_type": "code",
   "execution_count": 114,
   "metadata": {},
   "outputs": [
    {
     "name": "stdout",
     "output_type": "stream",
     "text": [
      "              precision    recall  f1-score   support\n",
      "\n",
      "           0       0.77      0.75      0.76      7316\n",
      "           1       0.78      0.84      0.81      9730\n",
      "           2       0.76      0.86      0.81      1246\n",
      "           3       0.89      0.65      0.75        97\n",
      "           4       0.88      0.25      0.38       310\n",
      "           5       0.67      0.32      0.44       588\n",
      "           6       0.89      0.67      0.77       713\n",
      "\n",
      "    accuracy                           0.78     20000\n",
      "   macro avg       0.81      0.62      0.67     20000\n",
      "weighted avg       0.78      0.78      0.77     20000\n",
      "\n"
     ]
    }
   ],
   "source": [
    "print(metrics.classification_report(y_true, y_pred))"
   ]
  },
  {
   "cell_type": "code",
   "execution_count": 115,
   "metadata": {},
   "outputs": [
    {
     "data": {
      "text/plain": [
       "0.9150519327739017"
      ]
     },
     "execution_count": 115,
     "metadata": {},
     "output_type": "execute_result"
    }
   ],
   "source": [
    "metrics.roc_auc_score(y_true, y_score, average='weighted', multi_class='ovr')"
   ]
  },
  {
   "cell_type": "code",
   "execution_count": 124,
   "metadata": {},
   "outputs": [
    {
     "data": {
      "text/plain": [
       "0.7763"
      ]
     },
     "execution_count": 124,
     "metadata": {},
     "output_type": "execute_result"
    }
   ],
   "source": [
    "clf.score(valid_df[features], valid_df[target])"
   ]
  },
  {
   "cell_type": "code",
   "execution_count": 127,
   "metadata": {},
   "outputs": [],
   "source": [
    "from sklearn.inspection import permutation_importance\n",
    "from sklearn.metrics import make_scorer\n",
    "\n",
    "scorer = make_scorer(metrics.log_loss, greater_is_better=False, needs_proba=True)\n",
    "permu_imp = permutation_importance(clf, valid_df[features], valid_df[target], \n",
    "                                   n_repeats=30, random_state=0, scoring=scorer)"
   ]
  },
  {
   "cell_type": "code",
   "execution_count": 129,
   "metadata": {},
   "outputs": [
    {
     "data": {
      "image/png": "[encoded data removed]",
      "text/plain": [
       "<Figure size 640x480 with 1 Axes>"
      ]
     },
     "metadata": {},
     "output_type": "display_data"
    }
   ],
   "source": [
    "#| fig-alt: horizontal bar plot showing permutation feature importance\n",
    "#| fig-cap: top 10 features by permutation importance on validation set\n",
    "\n",
    "importances_permutation = pd.Series(permu_imp['importances_mean'], index=features)\n",
    "importances_permutation.sort_values(ascending=True)[-10:].plot.barh()\n",
    "plt.title('Permutation Importance on Out-of-Sample Set')\n",
    "plt.xlabel('change in multivariate log likelihood');\n"
   ]
  }
 ],
 "metadata": {
  "kernelspec": {
   "display_name": "basic",
   "language": "python",
   "name": "python3"
  },
  "language_info": {
   "codemirror_mode": {
    "name": "ipython",
    "version": 3
   },
   "file_extension": ".py",
   "mimetype": "text/x-python",
   "name": "python",
   "nbconvert_exporter": "python",
   "pygments_lexer": "ipython3",
   "version": "3.9.13"
  }
 },
 "nbformat": 4,
 "nbformat_minor": 2
}
