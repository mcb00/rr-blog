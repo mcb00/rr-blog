{
 "cells": [
  {
   "cell_type": "markdown",
   "metadata": {},
   "source": [
    "# XGBoost for Binary and Multi-Class Classification in Python"
   ]
  },
  {
   "cell_type": "markdown",
   "metadata": {},
   "source": [
    "Now that we've covered [regression](/posts/xgboost-for-regression-in-python/),\n",
    "it's high time for a tutorial on solving classification problems in python with XGBoost.\n",
    "Today we'll run through two examples: one for binary classification and another for multi-class classification.\n",
    "We're going to use ready-to-train datasets from the scikit-learn datasets module for illustration, so check out the earlier post for [details on preparing data for use in XGBoost](/posts/xgboost-for-regression-in-python/).\n",
    "After covering the training APIs from both scikit-learn and the native xgboost python library, we'll have a look at computing performance metrics specific to both binary and multiclass classification.\n",
    "\n",
    "\n",
    "Of course, you can go deeper into \n",
    "Onward!\n",
    "\n"
   ]
  },
  {
   "cell_type": "markdown",
   "metadata": {},
   "source": []
  }
 ],
 "metadata": {
  "language_info": {
   "name": "python"
  }
 },
 "nbformat": 4,
 "nbformat_minor": 2
}
