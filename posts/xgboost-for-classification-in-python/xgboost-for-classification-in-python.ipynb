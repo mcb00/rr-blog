{
 "cells": [
  {
   "cell_type": "raw",
   "metadata": {},
   "source": [
    "---\n",
    "title: XGBoost for Binary and Multi-Class Classification in Python\n",
    "categories:\n",
    "- python\n",
    "- tutorial\n",
    "- gradient boosting\n",
    "- xgboost\n",
    "date: '2023-11-24'\n",
    "description: A step-bystep tutorial on binary and multi-class classification with XGBoost in python using sklearn and the xgboost library\n",
    "draft: false\n",
    "image: xgboost-classification-thumbnail.jpg\n",
    "---\n",
    "\n"
   ]
  },
  {
   "cell_type": "markdown",
   "metadata": {},
   "source": [
    "Now that we've covered [regression](/posts/xgboost-for-regression-in-python/),\n",
    "it's high time for a tutorial on solving classification problems in python with XGBoost.\n",
    "Today we'll run through two examples: one for binary classification and another for multi-class classification.\n",
    "We're going to use nearly ready-to-train datasets from the scikit-learn datasets module for illustration, so check out my tutorial on regression for [details on preparing data for XGBoost](/posts/xgboost-for-regression-in-python/#prepare-raw-data-for-xgboost).\n",
    "After covering the training APIs from both scikit-learn and the native xgboost python library, we'll have a look at some performance metrics specific to both binary and multiclass classification.\n",
    "\n",
    "Since you're reading this tutorial, you might also enjoy a deep dive on [the math behind XGBoost](/posts/xgboost-explained/)\n",
    "or [the implementation details of multi-class gradient boosting](/posts/gradient-boosting-multi-class-classification-from-scratch/),\n",
    "or you might even want to check out my [full series on gradient boosting](/gradient-boosting-series/)."
   ]
  },
  {
   "cell_type": "markdown",
   "metadata": {},
   "source": [
    "![A blistering afternoon in the Masai Mara](xgboost-classification-main.jpg \"\")"
   ]
  },
  {
   "cell_type": "markdown",
   "metadata": {},
   "source": [
    "## Binary Classification with XGBoost\n",
    "\n",
    "We'll demonstrate binary classification in XGBoost using the\n",
    "[breast cancer wisconsin data](https://scikit-learn.org/stable/modules/generated/sklearn.datasets.load_breast_cancer.html#sklearn.datasets.load_breast_cancer),\n",
    "one of scikit-learn's built-in toy datasets.\n",
    "This is a tiny dataset with 569 observations of 30 features and a binary target."
   ]
  },
  {
   "cell_type": "code",
   "execution_count": 187,
   "metadata": {},
   "outputs": [
    {
     "name": "stdout",
     "output_type": "stream",
     "text": [
      "<class 'pandas.core.frame.DataFrame'>\n",
      "RangeIndex: 569 entries, 0 to 568\n",
      "Data columns (total 31 columns):\n",
      " #   Column                   Non-Null Count  Dtype  \n",
      "---  ------                   --------------  -----  \n",
      " 0   mean radius              569 non-null    float64\n",
      " 1   mean texture             569 non-null    float64\n",
      " 2   mean perimeter           569 non-null    float64\n",
      " 3   mean area                569 non-null    float64\n",
      " 4   mean smoothness          569 non-null    float64\n",
      " 5   mean compactness         569 non-null    float64\n",
      " 6   mean concavity           569 non-null    float64\n",
      " 7   mean concave points      569 non-null    float64\n",
      " 8   mean symmetry            569 non-null    float64\n",
      " 9   mean fractal dimension   569 non-null    float64\n",
      " 10  radius error             569 non-null    float64\n",
      " 11  texture error            569 non-null    float64\n",
      " 12  perimeter error          569 non-null    float64\n",
      " 13  area error               569 non-null    float64\n",
      " 14  smoothness error         569 non-null    float64\n",
      " 15  compactness error        569 non-null    float64\n",
      " 16  concavity error          569 non-null    float64\n",
      " 17  concave points error     569 non-null    float64\n",
      " 18  symmetry error           569 non-null    float64\n",
      " 19  fractal dimension error  569 non-null    float64\n",
      " 20  worst radius             569 non-null    float64\n",
      " 21  worst texture            569 non-null    float64\n",
      " 22  worst perimeter          569 non-null    float64\n",
      " 23  worst area               569 non-null    float64\n",
      " 24  worst smoothness         569 non-null    float64\n",
      " 25  worst compactness        569 non-null    float64\n",
      " 26  worst concavity          569 non-null    float64\n",
      " 27  worst concave points     569 non-null    float64\n",
      " 28  worst symmetry           569 non-null    float64\n",
      " 29  worst fractal dimension  569 non-null    float64\n",
      " 30  target                   569 non-null    int64  \n",
      "dtypes: float64(30), int64(1)\n",
      "memory usage: 137.9 KB\n"
     ]
    }
   ],
   "source": [
    "import numpy as np \n",
    "import pandas as pd \n",
    "import matplotlib.pyplot as plt \n",
    "from sklearn import datasets\n",
    "\n",
    "dbunch = datasets.load_breast_cancer(as_frame=True)\n",
    "df = dbunch.frame\n",
    "features = dbunch.feature_names \n",
    "target = 'target' \n",
    "target_names = dbunch.target_names \n",
    "df.info()"
   ]
  },
  {
   "cell_type": "markdown",
   "metadata": {},
   "source": [
    "The features are all numeric, so no need to do preprocessing before passing to XGBoost.\n",
    "Let's have a look at the target."
   ]
  },
  {
   "cell_type": "code",
   "execution_count": 188,
   "metadata": {},
   "outputs": [
    {
     "data": {
      "text/plain": [
       "(array([0, 1]), array(['malignant', 'benign'], dtype='<U9'))"
      ]
     },
     "execution_count": 188,
     "metadata": {},
     "output_type": "execute_result"
    }
   ],
   "source": [
    "df[target].unique(), target_names"
   ]
  },
  {
   "cell_type": "markdown",
   "metadata": {},
   "source": [
    "For binary classification, XGBoost requires that the target takes values in {0, 1},\n",
    "and we can see our data already satisfies that condition.\n",
    "Let's check the counts of observations in each class.\n",
    "\n"
   ]
  },
  {
   "cell_type": "code",
   "execution_count": 189,
   "metadata": {},
   "outputs": [
    {
     "data": {
      "image/png": "[encoded data removed]",
      "text/plain": [
       "<Figure size 640x480 with 1 Axes>"
      ]
     },
     "metadata": {},
     "output_type": "display_data"
    }
   ],
   "source": [
    "#| fig-alt: bar plot showing the count of observations in each class\n",
    "#| fig-cap: class counts for the breast cancer dataset\n",
    "\n",
    "df.target.value_counts().sort_index().plot.bar()\n",
    "plt.xlabel('target') \n",
    "plt.ylabel('count');"
   ]
  },
  {
   "cell_type": "markdown",
   "metadata": {},
   "source": [
    "Next We split data into train and validation sets.\n",
    "On a real problem we'd choose the validation set either randomly or based on temporal ordering of the data, but for this toy problem, we just grab the last few rows of the dataset for validation."
   ]
  },
  {
   "cell_type": "code",
   "execution_count": 190,
   "metadata": {},
   "outputs": [
    {
     "data": {
      "text/plain": [
       "((519, 31), (50, 31))"
      ]
     },
     "execution_count": 190,
     "metadata": {},
     "output_type": "execute_result"
    }
   ],
   "source": [
    "n_valid = 50 \n",
    "\n",
    "train_df, valid_df = df[:-n_valid], df[-n_valid:] \n",
    "train_df.shape, valid_df.shape"
   ]
  },
  {
   "cell_type": "markdown",
   "metadata": {},
   "source": [
    "### Binary Classification Training APIs\n",
    "\n",
    "The `xgboost` python library offers two API's for training classification models: the native `train` function and a wrapper class called `XGBClassifier`, which offers an API consistent with the scikit-learn universe.\n",
    "I'll show you how to use both approaches, but if you're planning to use other utilities from scikit-learn, you might find the `XGBClassifier` approach to be more convenient, since the trained model object will generally play nice with sklearn functionality.\n",
    "\n",
    "I like to set the \n",
    "[XGBoost parameters](https://xgboost.readthedocs.io/en/stable/parameter.html)\n",
    "in a dictionary;\n",
    "be sure to set `objective` to `binary:logistic` so XGBoost uses negative log likelihood instead of the default mean squared error."
   ]
  },
  {
   "cell_type": "code",
   "execution_count": null,
   "metadata": {},
   "outputs": [],
   "source": []
  },
  {
   "cell_type": "markdown",
   "metadata": {},
   "source": [
    "#### The native XGBoost `train` function\n",
    "\n",
    "The `train` function requires you to te create `DMatrix` objects for training and validation data prior to training."
   ]
  },
  {
   "cell_type": "code",
   "execution_count": 191,
   "metadata": {},
   "outputs": [
    {
     "name": "stdout",
     "output_type": "stream",
     "text": [
      "[0]\ttrain-logloss:0.46304\tvalid-logloss:0.47318\n"
     ]
    },
    {
     "name": "stdout",
     "output_type": "stream",
     "text": [
      "[10]\ttrain-logloss:0.04542\tvalid-logloss:0.08636\n",
      "[20]\ttrain-logloss:0.01542\tvalid-logloss:0.05761\n",
      "[30]\ttrain-logloss:0.00986\tvalid-logloss:0.04896\n",
      "[40]\ttrain-logloss:0.00779\tvalid-logloss:0.04021\n",
      "[49]\ttrain-logloss:0.00672\tvalid-logloss:0.03738\n"
     ]
    }
   ],
   "source": [
    "params = {\n",
    "    'tree_method': 'exact',\n",
    "    'learning_rate': 0.3,\n",
    "    'max_depth': 6,\n",
    "    'min_child_weight': 1,\n",
    "    'subsample': 1,\n",
    "    'colsample_bynode': 1,\n",
    "    'objective': 'binary:logistic',\n",
    "    # 'num_class': df[target].nunique()\n",
    "}\n",
    "num_boost_round = 50\n",
    "\n",
    "dtrain = xgb.DMatrix(label=train_df[target], data=train_df[features])\n",
    "dvalid = xgb.DMatrix(label=valid_df[target], data=valid_df[features])\n",
    "model = xgb.train(params=params, dtrain=dtrain, num_boost_round=num_boost_round,\n",
    "                  evals=[(dtrain, 'train'), (dvalid, 'valid')],\n",
    "                  verbose_eval=10)"
   ]
  },
  {
   "cell_type": "markdown",
   "metadata": {},
   "source": [
    "#### Training using the `XGBClassifier` wrapper"
   ]
  },
  {
   "cell_type": "code",
   "execution_count": 192,
   "metadata": {},
   "outputs": [
    {
     "name": "stdout",
     "output_type": "stream",
     "text": [
      "[0]\tvalidation_0-logloss:0.46304\tvalidation_1-logloss:0.47318\n"
     ]
    },
    {
     "name": "stdout",
     "output_type": "stream",
     "text": [
      "[10]\tvalidation_0-logloss:0.04542\tvalidation_1-logloss:0.08636\n",
      "[20]\tvalidation_0-logloss:0.01542\tvalidation_1-logloss:0.05761\n",
      "[30]\tvalidation_0-logloss:0.00986\tvalidation_1-logloss:0.04896\n",
      "[40]\tvalidation_0-logloss:0.00779\tvalidation_1-logloss:0.04021\n",
      "[49]\tvalidation_0-logloss:0.00672\tvalidation_1-logloss:0.03738\n"
     ]
    }
   ],
   "source": [
    "params = {\n",
    "    'tree_method': 'exact',\n",
    "    'learning_rate': 0.3,\n",
    "    'max_depth': 6,\n",
    "    'min_child_weight': 1,\n",
    "    'subsample': 1,\n",
    "    'colsample_bynode': 1,\n",
    "    'objective': 'binary:logistic',\n",
    "}\n",
    "num_boost_round = 50\n",
    "\n",
    "# scikit-learn interface\n",
    "clf = xgb.XGBClassifier(n_estimators=num_boost_round, **params)\n",
    "clf.fit(train_df[features], train_df[target], \n",
    "        eval_set=[(train_df[features], train_df[target]), (valid_df[features], valid_df[target])], \n",
    "        verbose=10);"
   ]
  },
  {
   "cell_type": "markdown",
   "metadata": {},
   "source": [
    "### Evaluating XGBoost Binary Classification Performance\n",
    "\n",
    "We'll use the `sklearn.metrics` module\n",
    "to evaluate model performance on the held-out validation set.\n",
    "Have a look at the \n",
    "[scikit-learn metrics for c]lassification](https://scikit-learn.org/stable/modules/model_evaluation.html#classification-metrics)\n",
    "for examples of other metrics to use.\n",
    "\n",
    "One thing to watch out for when computing metrics is the difference between the actual labels (usually called `y_true`), the model's predicted labels (usually called `y_pred`), and the models predicted probabilities (usually called `y_score`).\n",
    "If you're using the `XGBClassifier` wrapper, you can get predicted labels with the `predict` method and predicted probabilities with the `predict_proba` method.\n",
    "Also note that whereas `predict` returns a vector of size (num data), `predict_proba` returns a vector of size (num data, num classes); thus for binary classification, we'll take just the second column of the array which gives the probability of class 1."
   ]
  },
  {
   "cell_type": "code",
   "execution_count": 193,
   "metadata": {},
   "outputs": [],
   "source": [
    "from sklearn import metrics \n",
    "\n",
    "y_true = valid_df[target]\n",
    "y_pred = clf.predict(valid_df[features])\n",
    "y_score = clf.predict_proba(valid_df[features])[:,1]"
   ]
  },
  {
   "cell_type": "markdown",
   "metadata": {},
   "source": [
    "Probably the simplest classification metric is accuracy, the proportion of labels we predicted correctly.\n",
    "This is an easy problem, and our model got 100% of the validation samples correct."
   ]
  },
  {
   "cell_type": "code",
   "execution_count": 194,
   "metadata": {},
   "outputs": [
    {
     "data": {
      "text/plain": [
       "1.0"
      ]
     },
     "execution_count": 194,
     "metadata": {},
     "output_type": "execute_result"
    }
   ],
   "source": [
    "metrics.accuracy_score(y_true, y_pred)"
   ]
  },
  {
   "cell_type": "markdown",
   "metadata": {},
   "source": [
    "We can generate a classification report with several different metrics at once."
   ]
  },
  {
   "cell_type": "code",
   "execution_count": 195,
   "metadata": {},
   "outputs": [
    {
     "name": "stdout",
     "output_type": "stream",
     "text": [
      "              precision    recall  f1-score   support\n",
      "\n",
      "   malignant       1.00      1.00      1.00        10\n",
      "      benign       1.00      1.00      1.00        40\n",
      "\n",
      "    accuracy                           1.00        50\n",
      "   macro avg       1.00      1.00      1.00        50\n",
      "weighted avg       1.00      1.00      1.00        50\n",
      "\n"
     ]
    }
   ],
   "source": [
    "print(metrics.classification_report(y_true, y_pred, target_names=target_names))"
   ]
  },
  {
   "cell_type": "markdown",
   "metadata": {},
   "source": [
    "And we can compute the AUC, a popular classification metric based on the ROC curve, which depends on the predicted probability rather than the labels yielded by applying a particular threshold to the probabilities."
   ]
  },
  {
   "cell_type": "code",
   "execution_count": 196,
   "metadata": {},
   "outputs": [
    {
     "data": {
      "text/plain": [
       "1.0"
      ]
     },
     "execution_count": 196,
     "metadata": {},
     "output_type": "execute_result"
    }
   ],
   "source": [
    "metrics.roc_auc_score(y_true, y_score)"
   ]
  },
  {
   "cell_type": "markdown",
   "metadata": {},
   "source": [
    "## Multi-Class Classification with XGBoost\n",
    "\n",
    "We'll illustrate multi-class classification using the \n",
    "[scikit-learn forest cover type dataset](https://scikit-learn.org/stable/modules/generated/sklearn.datasets.fetch_covtype.html#sklearn.datasets.fetch_covtype),\n",
    "which has around 580k observations of 54 features and a target with 7 classes."
   ]
  },
  {
   "cell_type": "code",
   "execution_count": 197,
   "metadata": {},
   "outputs": [
    {
     "name": "stdout",
     "output_type": "stream",
     "text": [
      "<class 'pandas.core.frame.DataFrame'>\n",
      "RangeIndex: 581012 entries, 0 to 581011\n",
      "Data columns (total 55 columns):\n",
      " #   Column                              Non-Null Count   Dtype  \n",
      "---  ------                              --------------   -----  \n",
      " 0   Elevation                           581012 non-null  float64\n",
      " 1   Aspect                              581012 non-null  float64\n",
      " 2   Slope                               581012 non-null  float64\n",
      " 3   Horizontal_Distance_To_Hydrology    581012 non-null  float64\n",
      " 4   Vertical_Distance_To_Hydrology      581012 non-null  float64\n",
      " 5   Horizontal_Distance_To_Roadways     581012 non-null  float64\n",
      " 6   Hillshade_9am                       581012 non-null  float64\n",
      " 7   Hillshade_Noon                      581012 non-null  float64\n",
      " 8   Hillshade_3pm                       581012 non-null  float64\n",
      " 9   Horizontal_Distance_To_Fire_Points  581012 non-null  float64\n",
      " 10  Wilderness_Area_0                   581012 non-null  float64\n",
      " 11  Wilderness_Area_1                   581012 non-null  float64\n",
      " 12  Wilderness_Area_2                   581012 non-null  float64\n",
      " 13  Wilderness_Area_3                   581012 non-null  float64\n",
      " 14  Soil_Type_0                         581012 non-null  float64\n",
      " 15  Soil_Type_1                         581012 non-null  float64\n",
      " 16  Soil_Type_2                         581012 non-null  float64\n",
      " 17  Soil_Type_3                         581012 non-null  float64\n",
      " 18  Soil_Type_4                         581012 non-null  float64\n",
      " 19  Soil_Type_5                         581012 non-null  float64\n",
      " 20  Soil_Type_6                         581012 non-null  float64\n",
      " 21  Soil_Type_7                         581012 non-null  float64\n",
      " 22  Soil_Type_8                         581012 non-null  float64\n",
      " 23  Soil_Type_9                         581012 non-null  float64\n",
      " 24  Soil_Type_10                        581012 non-null  float64\n",
      " 25  Soil_Type_11                        581012 non-null  float64\n",
      " 26  Soil_Type_12                        581012 non-null  float64\n",
      " 27  Soil_Type_13                        581012 non-null  float64\n",
      " 28  Soil_Type_14                        581012 non-null  float64\n",
      " 29  Soil_Type_15                        581012 non-null  float64\n",
      " 30  Soil_Type_16                        581012 non-null  float64\n",
      " 31  Soil_Type_17                        581012 non-null  float64\n",
      " 32  Soil_Type_18                        581012 non-null  float64\n",
      " 33  Soil_Type_19                        581012 non-null  float64\n",
      " 34  Soil_Type_20                        581012 non-null  float64\n",
      " 35  Soil_Type_21                        581012 non-null  float64\n",
      " 36  Soil_Type_22                        581012 non-null  float64\n",
      " 37  Soil_Type_23                        581012 non-null  float64\n",
      " 38  Soil_Type_24                        581012 non-null  float64\n",
      " 39  Soil_Type_25                        581012 non-null  float64\n",
      " 40  Soil_Type_26                        581012 non-null  float64\n",
      " 41  Soil_Type_27                        581012 non-null  float64\n",
      " 42  Soil_Type_28                        581012 non-null  float64\n",
      " 43  Soil_Type_29                        581012 non-null  float64\n",
      " 44  Soil_Type_30                        581012 non-null  float64\n",
      " 45  Soil_Type_31                        581012 non-null  float64\n",
      " 46  Soil_Type_32                        581012 non-null  float64\n",
      " 47  Soil_Type_33                        581012 non-null  float64\n",
      " 48  Soil_Type_34                        581012 non-null  float64\n",
      " 49  Soil_Type_35                        581012 non-null  float64\n",
      " 50  Soil_Type_36                        581012 non-null  float64\n",
      " 51  Soil_Type_37                        581012 non-null  float64\n",
      " 52  Soil_Type_38                        581012 non-null  float64\n",
      " 53  Soil_Type_39                        581012 non-null  float64\n",
      " 54  Cover_Type                          581012 non-null  int32  \n",
      "dtypes: float64(54), int32(1)\n",
      "memory usage: 241.6 MB\n"
     ]
    }
   ],
   "source": [
    "dbunch = datasets.fetch_covtype(as_frame=True)\n",
    "df = dbunch.frame\n",
    "features = dbunch.feature_names \n",
    "df.info()"
   ]
  },
  {
   "cell_type": "code",
   "execution_count": 198,
   "metadata": {},
   "outputs": [
    {
     "data": {
      "text/plain": [
       "Text(0, 0.5, 'count')"
      ]
     },
     "execution_count": 198,
     "metadata": {},
     "output_type": "execute_result"
    },
    {
     "data": {
      "image/png": "[encoded data removed]",
      "text/plain": [
       "<Figure size 640x480 with 1 Axes>"
      ]
     },
     "metadata": {},
     "output_type": "display_data"
    }
   ],
   "source": [
    "#| fig-alt: bar plot showing the count of observations in each class\n",
    "#| fig-cap: class counts for the forest cover type dataset\n",
    "\n",
    "df['Cover_Type'].value_counts().sort_index().plot.bar();\n",
    "plt.xlabel('cover type') \n",
    "plt.ylabel('count')"
   ]
  },
  {
   "cell_type": "markdown",
   "metadata": {},
   "source": [
    "For multi-class classification, our target variable must take values in $\\{0,1,\\dots,K\\}$.\n",
    "However, from the histogram of the cover type above, we see that it takes values in $\\{1,2,\\dots,7\\}$.\n",
    "To fix this we can use the scikit-learn label encoder to create a well-formed target column."
   ]
  },
  {
   "cell_type": "code",
   "execution_count": 199,
   "metadata": {},
   "outputs": [],
   "source": [
    "from sklearn.preprocessing import LabelEncoder \n",
    "\n",
    "target = 'encoded'\n",
    "enc = LabelEncoder()\n",
    "df[target] = enc.fit_transform(df['Cover_Type'])"
   ]
  },
  {
   "cell_type": "markdown",
   "metadata": {},
   "source": [
    "This time, let's actually randomly sample a validation set."
   ]
  },
  {
   "cell_type": "code",
   "execution_count": 200,
   "metadata": {},
   "outputs": [
    {
     "data": {
      "text/plain": [
       "((561012, 56), (20000, 56))"
      ]
     },
     "execution_count": 200,
     "metadata": {},
     "output_type": "execute_result"
    }
   ],
   "source": [
    "def train_test_split_random(df, n_valid):\n",
    "    np.random.seed(42)\n",
    "    idx_sort = np.random.permutation(len(df))\n",
    "    idx_train, idx_test = idx_sort[:-n_valid], idx_sort[-n_valid:]\n",
    "    return df.iloc[idx_train, :], df.iloc[idx_test, :]\n",
    "\n",
    "train_df, valid_df = train_test_split_random(df, 20000)\n",
    "train_df.shape, valid_df.shape"
   ]
  },
  {
   "cell_type": "markdown",
   "metadata": {},
   "source": [
    "### Training APIs for Multi-Class Classification \n",
    "\n",
    "Just like in binary classification, we can choose to use either the native `train` function or the sklearn-like `XGBClassifier` wrapper to train XGBoost."
   ]
  },
  {
   "cell_type": "markdown",
   "metadata": {},
   "source": [
    "#### Training with the native XGBoost `train` function\n",
    "\n",
    "If you're training with the `train` function, multi-class classification can be done with two objectives: `multi:softmax` and `multi:softprob`. \n",
    "Both use the same loss function, negative multinomial log likelihood, but the softmax option produces a trained `Booster` object whose predict method returns a 1d array of predicted labels, whereas the softprob option produces a trained `Booster` object whose predict method returns a 2d array of predicted probabilities.\n",
    "In either case, you also need to explicitly tell XGBoost how many classes the target has with the `num_class` parameter."
   ]
  },
  {
   "cell_type": "code",
   "execution_count": 201,
   "metadata": {},
   "outputs": [
    {
     "name": "stdout",
     "output_type": "stream",
     "text": [
      "[0]\ttrain-mlogloss:1.42072\tvalid-mlogloss:1.42131\n",
      "[2]\ttrain-mlogloss:1.00455\tvalid-mlogloss:1.00535\n",
      "[4]\ttrain-mlogloss:0.80579\tvalid-mlogloss:0.80711\n",
      "[6]\ttrain-mlogloss:0.69510\tvalid-mlogloss:0.69636\n",
      "[8]\ttrain-mlogloss:0.62767\tvalid-mlogloss:0.62970\n",
      "[9]\ttrain-mlogloss:0.60207\tvalid-mlogloss:0.60393\n"
     ]
    }
   ],
   "source": [
    "params = {\n",
    "    'tree_method': 'approx',\n",
    "    'learning_rate': 0.3,\n",
    "    'max_depth': 6,\n",
    "    'min_child_weight': 1,\n",
    "    'subsample': 1,\n",
    "    'colsample_bynode': 1,\n",
    "    'objective': 'multi:softprob',\n",
    "    'num_class': df[target].nunique()\n",
    "}\n",
    "num_boost_round = 10\n",
    "\n",
    "dtrain = xgb.DMatrix(label=train_df[target], data=train_df[features])\n",
    "dvalid = xgb.DMatrix(label=valid_df[target], data=valid_df[features])\n",
    "model = xgb.train(params=params, dtrain=dtrain, num_boost_round=num_boost_round,\n",
    "                  evals=[(dtrain, 'train'), (dvalid, 'valid')],\n",
    "                  verbose_eval=2)"
   ]
  },
  {
   "cell_type": "markdown",
   "metadata": {},
   "source": [
    "#### Training using the scikit-learn `XGBClassifier` wrapper\n",
    "\n",
    "In multi-class classification, I think  the scikit-learn `XGBClassifier` wrapper is quite a bit more convenient than the native `train` function.\n",
    "You can set the `objective` parameter to `multi:softprob`, and `XGBClassifier.fit` will produce a model having both `predict` and `predict_proba` methods.\n",
    "Also there is no need to explicitly set the number of classes in the target and no need to create the `DMatrixG objects.`"
   ]
  },
  {
   "cell_type": "code",
   "execution_count": 202,
   "metadata": {},
   "outputs": [
    {
     "name": "stdout",
     "output_type": "stream",
     "text": [
      "[0]\tvalidation_0-mlogloss:1.42072\tvalidation_1-mlogloss:1.42131\n",
      "[2]\tvalidation_0-mlogloss:1.00455\tvalidation_1-mlogloss:1.00535\n",
      "[4]\tvalidation_0-mlogloss:0.80579\tvalidation_1-mlogloss:0.80711\n",
      "[6]\tvalidation_0-mlogloss:0.69510\tvalidation_1-mlogloss:0.69636\n",
      "[8]\tvalidation_0-mlogloss:0.62767\tvalidation_1-mlogloss:0.62970\n",
      "[9]\tvalidation_0-mlogloss:0.60207\tvalidation_1-mlogloss:0.60393\n"
     ]
    }
   ],
   "source": [
    "params = {\n",
    "    'tree_method': 'approx',\n",
    "    'learning_rate': 0.3,\n",
    "    'max_depth': 6,\n",
    "    'min_child_weight': 1,\n",
    "    'subsample': 1,\n",
    "    'colsample_bynode': 1,\n",
    "    'objective': 'multi:softprob',\n",
    "}\n",
    "num_boost_round = 10\n",
    "\n",
    "# scikit-learn interface\n",
    "clf = xgb.XGBClassifier(n_estimators=num_boost_round, **params)\n",
    "clf.fit(train_df[features], train_df[target], \n",
    "        eval_set=[(train_df[features], train_df[target]), (valid_df[features], valid_df[target])], \n",
    "        verbose=2);"
   ]
  },
  {
   "cell_type": "markdown",
   "metadata": {},
   "source": [
    "### Evaluating XGBoost Multi-Class Classification \n",
    "\n",
    "Here again we can use the `sklearn.metrics` module to compute classification metrics to evaluate our model.\n",
    "This time, we'll kee; the entire 2d `y_score` array of predicted probabilities."
   ]
  },
  {
   "cell_type": "code",
   "execution_count": 203,
   "metadata": {},
   "outputs": [
    {
     "data": {
      "text/plain": [
       "((20000,), (20000,), (20000, 7))"
      ]
     },
     "execution_count": 203,
     "metadata": {},
     "output_type": "execute_result"
    }
   ],
   "source": [
    "y_true = valid_df[target]\n",
    "y_pred = clf.predict(valid_df[features])\n",
    "y_score = clf.predict_proba(valid_df[features])\n",
    "y_true.shape, y_pred.shape, y_score.shape"
   ]
  },
  {
   "cell_type": "markdown",
   "metadata": {},
   "source": [
    "Again, the accuracy score is simply the proportion of labels we predicted correctly."
   ]
  },
  {
   "cell_type": "code",
   "execution_count": 204,
   "metadata": {},
   "outputs": [
    {
     "data": {
      "text/plain": [
       "0.7763"
      ]
     },
     "execution_count": 204,
     "metadata": {},
     "output_type": "execute_result"
    }
   ],
   "source": [
    "metrics.accuracy_score(y_true, y_pred)"
   ]
  },
  {
   "cell_type": "markdown",
   "metadata": {},
   "source": [
    "And again, we can produce the more comprehensive classification report."
   ]
  },
  {
   "cell_type": "code",
   "execution_count": 205,
   "metadata": {},
   "outputs": [
    {
     "name": "stdout",
     "output_type": "stream",
     "text": [
      "              precision    recall  f1-score   support\n",
      "\n",
      "           0       0.77      0.75      0.76      7316\n",
      "           1       0.78      0.84      0.81      9730\n",
      "           2       0.76      0.86      0.81      1246\n",
      "           3       0.89      0.65      0.75        97\n",
      "           4       0.88      0.25      0.38       310\n",
      "           5       0.67      0.32      0.44       588\n",
      "           6       0.89      0.67      0.77       713\n",
      "\n",
      "    accuracy                           0.78     20000\n",
      "   macro avg       0.81      0.62      0.67     20000\n",
      "weighted avg       0.78      0.78      0.77     20000\n",
      "\n"
     ]
    }
   ],
   "source": [
    "print(metrics.classification_report(y_true, y_pred))"
   ]
  },
  {
   "cell_type": "markdown",
   "metadata": {},
   "source": [
    "Some metrics, like AUC, can be extended to the multi-class setting.\n",
    "Usually these metrics are computed for each class, then averaged together in some way to get an overall score. \n",
    "The details are controlled by the `average` and `multi_class` parameters, which are described in the\n",
    "[documentation](https://scikit-learn.org/stable/modules/generated/sklearn.metrics.roc_auc_score.html#sklearn.metrics.roc_auc_score)."
   ]
  },
  {
   "cell_type": "code",
   "execution_count": 206,
   "metadata": {},
   "outputs": [
    {
     "data": {
      "text/plain": [
       "0.9150519327739017"
      ]
     },
     "execution_count": 206,
     "metadata": {},
     "output_type": "execute_result"
    }
   ],
   "source": [
    "metrics.roc_auc_score(y_true, y_score, average='weighted', multi_class='ovr')"
   ]
  },
  {
   "cell_type": "markdown",
   "metadata": {},
   "source": [
    "## Feature Importance for XGBoost Classifier\n",
    "\n",
    "Because of the \n",
    "[limitations of the built-in XGBoost feature importance metrics](/posts/xgboost-for-regression-in-python/#feature-importance-for-xgboost)\n",
    "I recommend that you use either [permutation feature importance](https://scikit-learn.org/stable/modules/permutation_importance.html)\n",
    "or perhaps [SHAP feature importance](https://shap.readthedocs.io/en/latest/index.html).\n",
    "\n",
    "Here we'll compute the permutation feature importance, which tells us by how much the model's performance changes when we scramble a particular feature's values at prediction time.\n",
    "This reflects how much the model relies on each feature when making predictions."
   ]
  },
  {
   "cell_type": "code",
   "execution_count": 207,
   "metadata": {},
   "outputs": [],
   "source": [
    "from sklearn.inspection import permutation_importance\n",
    "from sklearn.metrics import make_scorer\n",
    "\n",
    "scorer = make_scorer(metrics.log_loss, greater_is_better=False, needs_proba=True)\n",
    "permu_imp = permutation_importance(clf, valid_df[features], valid_df[target], \n",
    "                                   n_repeats=30, random_state=0, scoring=scorer)"
   ]
  },
  {
   "cell_type": "code",
   "execution_count": null,
   "metadata": {},
   "outputs": [
    {
     "data": {
      "image/png": "[encoded data removed]",
      "text/plain": [
       "<Figure size 640x480 with 1 Axes>"
      ]
     },
     "metadata": {},
     "output_type": "display_data"
    }
   ],
   "source": [
    "#| fig-alt: horizontal bar plot showing permutation feature importance\n",
    "#| fig-cap: top 10 features by permutation importance on validation set\n",
    "\n",
    "importances_permutation = pd.Series(permu_imp['importances_mean'], index=features)\n",
    "importances_permutation.sort_values(ascending=True)[-10:].plot.barh()\n",
    "plt.title('Permutation Importance on Out-of-Sample Set')\n",
    "plt.xlabel('change in multivariate log likelihood');\n"
   ]
  },
  {
   "cell_type": "markdown",
   "metadata": {},
   "source": [
    "It looks like the model relies on elevation much more than any  other feature to make predictions on a held-out validation set."
   ]
  },
  {
   "cell_type": "markdown",
   "metadata": {},
   "source": [
    "## Wrapping Up\n",
    "\n",
    "Ok, hopefully now you're comfortable with the nuts and bolts of training XGBoost classifiers on both binary and multi-class problems. \n",
    "If you found this useful, or if you have additional insights into using XGBoost to solve classification problems, let us know about it down in the comments!"
   ]
  }
 ],
 "metadata": {
  "kernelspec": {
   "display_name": "basic",
   "language": "python",
   "name": "python3"
  },
  "language_info": {
   "codemirror_mode": {
    "name": "ipython",
    "version": 3
   },
   "file_extension": ".py",
   "mimetype": "text/x-python",
   "name": "python",
   "nbconvert_exporter": "python",
   "pygments_lexer": "ipython3",
   "version": "3.9.13"
  }
 },
 "nbformat": 4,
 "nbformat_minor": 2
}
