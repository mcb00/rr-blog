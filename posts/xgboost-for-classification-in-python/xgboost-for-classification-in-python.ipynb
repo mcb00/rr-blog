{
 "cells": [
  {
   "cell_type": "raw",
   "metadata": {},
   "source": [
    "---\n",
    "title: XGBoost for Binary and Multi-Class Classification in Python\n",
    "categories:\n",
    "- python\n",
    "- tutorial\n",
    "- gradient boosting\n",
    "- xgboost\n",
    "date: '2023-11-24'\n",
    "description: A step-bystep tutorial on binary and multi-class classification with XGBoost in python using sklearn and the xgboost library\n",
    "draft: false\n",
    "image: xgboost-classification-thumbnail.jpg\n",
    "---\n",
    "\n"
   ]
  },
  {
   "cell_type": "markdown",
   "metadata": {},
   "source": [
    "Today we continue the [saga on gradient boosting](/gradient-boosting-series/)\n",
    " with a down-to-Earth tutorial on the essentials of solving classification problems with XGBoost.\n",
    "We'll run through two examples: one for binary classification and another for multi-class classification.\n",
    "In both cases I'll show you how to train XGBoost models using either the scikit-learn interface or the native xgboost library interface.\n",
    "We'll have a look at some basic model evaluation metrics for classifiers and then wrap it up with a (mostly) rant-free demo on getting non-useless feature importance for these XGBoost models."
   ]
  },
  {
   "cell_type": "markdown",
   "metadata": {},
   "source": [
    "![A blistering afternoon in the Masai Mara](xgboost-classification-main.jpg \"\")"
   ]
  },
  {
   "cell_type": "markdown",
   "metadata": {},
   "source": [
    "## Preparing Data for XGBoost Classifier\n",
    "\n",
    "Our dataset must satisfy two requirements to be used in an XGBoost classifier.\n",
    "First all feature data must be numeric&mdash;no strings and no datetimes;\n",
    "if you have non-numeric features, you need to [transform your feature data](/posts/xgboost-for-regression-in-python/#prepare-raw-data-for-xgboost).\n",
    "Second, the target must be integer encoded using $\\{0,1\\}$ for binary targets and $\\{0,1,\\dots,K\\}$ for multiclass targets.\n",
    "Note that if your data is encoded to positive integers (no 0 class) XGBoost will throw potentially cryptic errors.\n",
    "You can use the scikit-learn \n",
    "[`LabelEncoder`](https://scikit-learn.org/stable/modules/generated/sklearn.preprocessing.LabelEncoder.html)\n",
    "(which we'll do below) to generate a valid target encoding."
   ]
  },
  {
   "cell_type": "markdown",
   "metadata": {},
   "source": [
    "### XGBoost Training APIs: `train` function and `XGBClassifier` wrapper\n",
    "\n",
    "The `xgboost` python library offers two API's for training classification models:  the native \n",
    "[`train`](https://xgboost.readthedocs.io/en/latest/python/python_api.html#module-xgboost.training)\n",
    "function and a wrapper class called \n",
    "[`XGBClassifier`](https://xgboost.readthedocs.io/en/latest/python/python_api.html#module-xgboost.sklearn),\n",
    "which offers an API consistent with the scikit-learn universe.\n",
    "I'll show you how to use both approaches in the examples below, but if you're planning to use other utilities from scikit-learn, you might find the `XGBClassifier` approach to be more convenient, since the trained model object will generally play nice with sklearn functionality."
   ]
  },
  {
   "cell_type": "markdown",
   "metadata": {},
   "source": [
    "## Binary Classification Example\n",
    "\n",
    "### Breast Cancer Wisconsin Dataset\n",
    "We'll demonstrate binary classification in XGBoost using the\n",
    "[breast cancer wisconsin data](https://scikit-learn.org/stable/modules/generated/sklearn.datasets.load_breast_cancer.html#sklearn.datasets.load_breast_cancer),\n",
    "one of scikit-learn's built-in toy datasets.\n",
    "This is a tiny dataset with 569 observations of 30 features and a binary target representing whether samples are malignant or benign.."
   ]
  },
  {
   "cell_type": "code",
   "execution_count": 210,
   "metadata": {},
   "outputs": [
    {
     "name": "stdout",
     "output_type": "stream",
     "text": [
      "<class 'pandas.core.frame.DataFrame'>\n",
      "RangeIndex: 569 entries, 0 to 568\n",
      "Data columns (total 31 columns):\n",
      " #   Column                   Non-Null Count  Dtype  \n",
      "---  ------                   --------------  -----  \n",
      " 0   mean radius              569 non-null    float64\n",
      " 1   mean texture             569 non-null    float64\n",
      " 2   mean perimeter           569 non-null    float64\n",
      " 3   mean area                569 non-null    float64\n",
      " 4   mean smoothness          569 non-null    float64\n",
      " 5   mean compactness         569 non-null    float64\n",
      " 6   mean concavity           569 non-null    float64\n",
      " 7   mean concave points      569 non-null    float64\n",
      " 8   mean symmetry            569 non-null    float64\n",
      " 9   mean fractal dimension   569 non-null    float64\n",
      " 10  radius error             569 non-null    float64\n",
      " 11  texture error            569 non-null    float64\n",
      " 12  perimeter error          569 non-null    float64\n",
      " 13  area error               569 non-null    float64\n",
      " 14  smoothness error         569 non-null    float64\n",
      " 15  compactness error        569 non-null    float64\n",
      " 16  concavity error          569 non-null    float64\n",
      " 17  concave points error     569 non-null    float64\n",
      " 18  symmetry error           569 non-null    float64\n",
      " 19  fractal dimension error  569 non-null    float64\n",
      " 20  worst radius             569 non-null    float64\n",
      " 21  worst texture            569 non-null    float64\n",
      " 22  worst perimeter          569 non-null    float64\n",
      " 23  worst area               569 non-null    float64\n",
      " 24  worst smoothness         569 non-null    float64\n",
      " 25  worst compactness        569 non-null    float64\n",
      " 26  worst concavity          569 non-null    float64\n",
      " 27  worst concave points     569 non-null    float64\n",
      " 28  worst symmetry           569 non-null    float64\n",
      " 29  worst fractal dimension  569 non-null    float64\n",
      " 30  target                   569 non-null    int64  \n",
      "dtypes: float64(30), int64(1)\n",
      "memory usage: 137.9 KB\n"
     ]
    }
   ],
   "source": [
    "import numpy as np \n",
    "import pandas as pd \n",
    "import matplotlib.pyplot as plt \n",
    "from sklearn import datasets\n",
    "\n",
    "dbunch = datasets.load_breast_cancer(as_frame=True)\n",
    "df = dbunch.frame\n",
    "features = dbunch.feature_names \n",
    "target_names = dbunch.target_names \n",
    "target = 'target' \n",
    "df.info()"
   ]
  },
  {
   "cell_type": "markdown",
   "metadata": {},
   "source": [
    "In this dataset, the features are all numeric, so no need to do preprocessing before passing to XGBoost.\n",
    "Below we'll have a look at the target to ensure it's encoded in $\\{0,1\\}$ and to check the class balance."
   ]
  },
  {
   "cell_type": "code",
   "execution_count": 211,
   "metadata": {},
   "outputs": [
    {
     "data": {
      "text/plain": [
       "(array([0, 1]), array(['malignant', 'benign'], dtype='<U9'))"
      ]
     },
     "execution_count": 211,
     "metadata": {},
     "output_type": "execute_result"
    }
   ],
   "source": [
    "df[target].unique(), target_names"
   ]
  },
  {
   "cell_type": "code",
   "execution_count": 212,
   "metadata": {},
   "outputs": [
    {
     "data": {
      "image/png": "[encoded data removed]",
      "text/plain": [
       "<Figure size 640x480 with 1 Axes>"
      ]
     },
     "metadata": {},
     "output_type": "display_data"
    }
   ],
   "source": [
    "#| fig-alt: bar plot showing the count of observations in each class\n",
    "#| fig-cap: class counts for the breast cancer dataset\n",
    "\n",
    "df.target.value_counts().sort_index().plot.bar()\n",
    "plt.xlabel('target') \n",
    "plt.ylabel('count');"
   ]
  },
  {
   "cell_type": "markdown",
   "metadata": {},
   "source": [
    "Next We randomly split data into train and validation sets."
   ]
  },
  {
   "cell_type": "code",
   "execution_count": 216,
   "metadata": {},
   "outputs": [
    {
     "data": {
      "text/plain": [
       "((519, 31), (50, 31))"
      ]
     },
     "execution_count": 216,
     "metadata": {},
     "output_type": "execute_result"
    }
   ],
   "source": [
    "from sklearn.model_selection import train_test_split\n",
    "\n",
    "n_valid = 50 \n",
    "\n",
    "train_df, valid_df = train_test_split(df, test_size=n_valid, random_state=42)\n",
    "train_df.shape, valid_df.shape"
   ]
  },
  {
   "cell_type": "markdown",
   "metadata": {},
   "source": [
    "### Training with the  `train` function\n",
    "\n",
    "We need to set a couple of\n",
    "[model parameters](https://xgboost.readthedocs.io/en/stable/parameter.html),\n",
    "most notably `objective`, which should be set to `binary:logistic` for binary classification.\n",
    "I also prefer to explicitly set `tree_method` to something other than its default of `auto`;\n",
    "usually I'll start with `exact` on small datasets or `approx` on larger ones.\n",
    "Note also that The `train` function expects to receive data as `DMatrix` objects, not pandas dataframes, so we need to create dense matrix objects as well."
   ]
  },
  {
   "cell_type": "code",
   "execution_count": 224,
   "metadata": {},
   "outputs": [
    {
     "name": "stdout",
     "output_type": "stream",
     "text": [
      "[0]\ttrain-logloss:0.46232\tvalid-logloss:0.49033\n",
      "[10]\ttrain-logloss:0.04394\tvalid-logloss:0.13434\n"
     ]
    },
    {
     "name": "stdout",
     "output_type": "stream",
     "text": [
      "[20]\ttrain-logloss:0.01515\tvalid-logloss:0.12193\n",
      "[30]\ttrain-logloss:0.00995\tvalid-logloss:0.11988\n",
      "[40]\ttrain-logloss:0.00766\tvalid-logloss:0.12416\n",
      "[49]\ttrain-logloss:0.00657\tvalid-logloss:0.12799\n"
     ]
    }
   ],
   "source": [
    "params = {\n",
    "    'tree_method': 'exact',\n",
    "    'objective': 'binary:logistic',\n",
    "}\n",
    "num_boost_round = 50\n",
    "\n",
    "dtrain = xgb.DMatrix(label=train_df[target], data=train_df[features])\n",
    "dvalid = xgb.DMatrix(label=valid_df[target], data=valid_df[features])\n",
    "model = xgb.train(params=params, dtrain=dtrain, num_boost_round=num_boost_round,\n",
    "                  evals=[(dtrain, 'train'), (dvalid, 'valid')],\n",
    "                  verbose_eval=10)"
   ]
  },
  {
   "cell_type": "markdown",
   "metadata": {},
   "source": [
    "### Training with `XGBClassifier`\n",
    "\n",
    "The `XGBClassifier` takes dataframes or numpy arrays as input, so this time we don't need to create those dense matrix objects."
   ]
  },
  {
   "cell_type": "code",
   "execution_count": 225,
   "metadata": {},
   "outputs": [
    {
     "name": "stdout",
     "output_type": "stream",
     "text": [
      "[0]\tvalidation_0-logloss:0.46232\tvalidation_1-logloss:0.49033\n",
      "[10]\tvalidation_0-logloss:0.04394\tvalidation_1-logloss:0.13434\n"
     ]
    },
    {
     "name": "stdout",
     "output_type": "stream",
     "text": [
      "[20]\tvalidation_0-logloss:0.01515\tvalidation_1-logloss:0.12193\n",
      "[30]\tvalidation_0-logloss:0.00995\tvalidation_1-logloss:0.11988\n",
      "[40]\tvalidation_0-logloss:0.00766\tvalidation_1-logloss:0.12416\n",
      "[49]\tvalidation_0-logloss:0.00657\tvalidation_1-logloss:0.12799\n"
     ]
    }
   ],
   "source": [
    "params = {\n",
    "    'tree_method': 'exact',\n",
    "    'objective': 'binary:logistic',\n",
    "}\n",
    "num_boost_round = 50\n",
    "\n",
    "clf = xgb.XGBClassifier(n_estimators=num_boost_round, **params)\n",
    "clf.fit(train_df[features], train_df[target], \n",
    "        eval_set=[(train_df[features], train_df[target]), (valid_df[features], valid_df[target])], \n",
    "        verbose=10);"
   ]
  },
  {
   "cell_type": "markdown",
   "metadata": {},
   "source": [
    "### Evaluating the Model\n",
    "\n",
    "We'll use the `sklearn.metrics` module\n",
    "to evaluate model performance on the held-out validation set.\n",
    "Have a look at the \n",
    "[scikit-learn metrics for classification](https://scikit-learn.org/stable/modules/model_evaluation.html#classification-metrics)\n",
    "for examples of other metrics to use.\n",
    "\n",
    "One thing to watch out for when computing metrics is the difference between the actual labels (usually called `y_true`), the model's predicted labels (usually called `y_pred`), and the models predicted probabilities (usually called `y_score`).\n",
    "If you're using the `XGBClassifier` wrapper, you can get predicted labels with the `predict` method and predicted probabilities with the `predict_proba` method.\n",
    "Also note that whereas `predict` returns a vector of size (num data), `predict_proba` returns a vector of size (num data, num classes); thus for binary classification, we'll take just the second column of the array which gives the probability of class 1."
   ]
  },
  {
   "cell_type": "code",
   "execution_count": 220,
   "metadata": {},
   "outputs": [],
   "source": [
    "y_true = valid_df[target]\n",
    "y_pred = clf.predict(valid_df[features])\n",
    "y_score = clf.predict_proba(valid_df[features])[:,1]"
   ]
  },
  {
   "cell_type": "markdown",
   "metadata": {},
   "source": [
    "Probably the simplest classification metric is accuracy, the proportion of labels we predicted correctly."
   ]
  },
  {
   "cell_type": "code",
   "execution_count": 226,
   "metadata": {},
   "outputs": [
    {
     "data": {
      "text/plain": [
       "0.96"
      ]
     },
     "execution_count": 226,
     "metadata": {},
     "output_type": "execute_result"
    }
   ],
   "source": [
    "from sklearn import metrics \n",
    "\n",
    "metrics.accuracy_score(y_true, y_pred)"
   ]
  },
  {
   "cell_type": "markdown",
   "metadata": {},
   "source": [
    "We can generate a classification report with several different metrics at once."
   ]
  },
  {
   "cell_type": "code",
   "execution_count": 227,
   "metadata": {},
   "outputs": [
    {
     "name": "stdout",
     "output_type": "stream",
     "text": [
      "              precision    recall  f1-score   support\n",
      "\n",
      "   malignant       0.93      0.93      0.93        15\n",
      "      benign       0.97      0.97      0.97        35\n",
      "\n",
      "    accuracy                           0.96        50\n",
      "   macro avg       0.95      0.95      0.95        50\n",
      "weighted avg       0.96      0.96      0.96        50\n",
      "\n"
     ]
    }
   ],
   "source": [
    "print(metrics.classification_report(y_true, y_pred, target_names=target_names))"
   ]
  },
  {
   "cell_type": "markdown",
   "metadata": {},
   "source": [
    "And we can compute the AUC, a popular classification metric based on the ROC curve, which depends on the predicted probability rather than the predicted labels."
   ]
  },
  {
   "cell_type": "code",
   "execution_count": 228,
   "metadata": {},
   "outputs": [
    {
     "data": {
      "text/plain": [
       "0.9885714285714287"
      ]
     },
     "execution_count": 228,
     "metadata": {},
     "output_type": "execute_result"
    }
   ],
   "source": [
    "metrics.roc_auc_score(y_true, y_score)"
   ]
  },
  {
   "cell_type": "markdown",
   "metadata": {},
   "source": [
    "### Feature Importance\n",
    "\n",
    "Because of the \n",
    "[limitations of the built-in XGBoost feature importance metrics](/posts/xgboost-for-regression-in-python/#feature-importance-for-xgboost)\n",
    "I recommend that you use either [permutation feature importance](https://scikit-learn.org/stable/modules/permutation_importance.html)\n",
    "or perhaps [SHAP feature importance](https://shap.readthedocs.io/en/latest/index.html).\n",
    "\n",
    "Here we'll compute the permutation feature importance, which tells us by how much the model's performance changes when we scramble a particular feature's values at prediction time.\n",
    "This reflects how much the model relies on each feature when making predictions."
   ]
  },
  {
   "cell_type": "code",
   "execution_count": 229,
   "metadata": {},
   "outputs": [],
   "source": [
    "from sklearn.inspection import permutation_importance\n",
    "from sklearn.metrics import make_scorer\n",
    "\n",
    "scorer = make_scorer(metrics.log_loss, greater_is_better=False, needs_proba=True)\n",
    "permu_imp = permutation_importance(clf, valid_df[features], valid_df[target], \n",
    "                                   n_repeats=30, random_state=0, scoring=scorer)"
   ]
  },
  {
   "cell_type": "code",
   "execution_count": 230,
   "metadata": {},
   "outputs": [
    {
     "data": {
      "image/png": "[encoded data removed]",
      "text/plain": [
       "<Figure size 640x480 with 1 Axes>"
      ]
     },
     "metadata": {},
     "output_type": "display_data"
    }
   ],
   "source": [
    "#| fig-alt: horizontal bar plot showing permutation feature importance\n",
    "#| fig-cap: top 10 features by permutation importance on validation set\n",
    "\n",
    "importances_permutation = pd.Series(permu_imp['importances_mean'], index=features)\n",
    "importances_permutation.sort_values(ascending=True)[-10:].plot.barh()\n",
    "plt.title('Permutation Importance on Out-of-Sample Set')\n",
    "plt.xlabel('change in log likelihood');\n"
   ]
  },
  {
   "cell_type": "markdown",
   "metadata": {},
   "source": [
    "## Multi-Class Classification Example\n",
    "\n",
    "### Forest Cover Dataset\n",
    "We'll illustrate multi-class classification using the \n",
    "[scikit-learn forest cover type dataset](https://scikit-learn.org/stable/modules/generated/sklearn.datasets.fetch_covtype.html#sklearn.datasets.fetch_covtype),\n",
    "which has around 580k observations of 54 features and a target with 7 classes."
   ]
  },
  {
   "cell_type": "code",
   "execution_count": 231,
   "metadata": {},
   "outputs": [
    {
     "name": "stdout",
     "output_type": "stream",
     "text": [
      "<class 'pandas.core.frame.DataFrame'>\n",
      "RangeIndex: 581012 entries, 0 to 581011\n",
      "Data columns (total 55 columns):\n",
      " #   Column                              Non-Null Count   Dtype  \n",
      "---  ------                              --------------   -----  \n",
      " 0   Elevation                           581012 non-null  float64\n",
      " 1   Aspect                              581012 non-null  float64\n",
      " 2   Slope                               581012 non-null  float64\n",
      " 3   Horizontal_Distance_To_Hydrology    581012 non-null  float64\n",
      " 4   Vertical_Distance_To_Hydrology      581012 non-null  float64\n",
      " 5   Horizontal_Distance_To_Roadways     581012 non-null  float64\n",
      " 6   Hillshade_9am                       581012 non-null  float64\n",
      " 7   Hillshade_Noon                      581012 non-null  float64\n",
      " 8   Hillshade_3pm                       581012 non-null  float64\n",
      " 9   Horizontal_Distance_To_Fire_Points  581012 non-null  float64\n",
      " 10  Wilderness_Area_0                   581012 non-null  float64\n",
      " 11  Wilderness_Area_1                   581012 non-null  float64\n",
      " 12  Wilderness_Area_2                   581012 non-null  float64\n",
      " 13  Wilderness_Area_3                   581012 non-null  float64\n",
      " 14  Soil_Type_0                         581012 non-null  float64\n",
      " 15  Soil_Type_1                         581012 non-null  float64\n",
      " 16  Soil_Type_2                         581012 non-null  float64\n",
      " 17  Soil_Type_3                         581012 non-null  float64\n",
      " 18  Soil_Type_4                         581012 non-null  float64\n",
      " 19  Soil_Type_5                         581012 non-null  float64\n",
      " 20  Soil_Type_6                         581012 non-null  float64\n",
      " 21  Soil_Type_7                         581012 non-null  float64\n",
      " 22  Soil_Type_8                         581012 non-null  float64\n",
      " 23  Soil_Type_9                         581012 non-null  float64\n",
      " 24  Soil_Type_10                        581012 non-null  float64\n",
      " 25  Soil_Type_11                        581012 non-null  float64\n",
      " 26  Soil_Type_12                        581012 non-null  float64\n",
      " 27  Soil_Type_13                        581012 non-null  float64\n",
      " 28  Soil_Type_14                        581012 non-null  float64\n",
      " 29  Soil_Type_15                        581012 non-null  float64\n",
      " 30  Soil_Type_16                        581012 non-null  float64\n",
      " 31  Soil_Type_17                        581012 non-null  float64\n",
      " 32  Soil_Type_18                        581012 non-null  float64\n",
      " 33  Soil_Type_19                        581012 non-null  float64\n",
      " 34  Soil_Type_20                        581012 non-null  float64\n",
      " 35  Soil_Type_21                        581012 non-null  float64\n",
      " 36  Soil_Type_22                        581012 non-null  float64\n",
      " 37  Soil_Type_23                        581012 non-null  float64\n",
      " 38  Soil_Type_24                        581012 non-null  float64\n",
      " 39  Soil_Type_25                        581012 non-null  float64\n",
      " 40  Soil_Type_26                        581012 non-null  float64\n",
      " 41  Soil_Type_27                        581012 non-null  float64\n",
      " 42  Soil_Type_28                        581012 non-null  float64\n",
      " 43  Soil_Type_29                        581012 non-null  float64\n",
      " 44  Soil_Type_30                        581012 non-null  float64\n",
      " 45  Soil_Type_31                        581012 non-null  float64\n",
      " 46  Soil_Type_32                        581012 non-null  float64\n",
      " 47  Soil_Type_33                        581012 non-null  float64\n",
      " 48  Soil_Type_34                        581012 non-null  float64\n",
      " 49  Soil_Type_35                        581012 non-null  float64\n",
      " 50  Soil_Type_36                        581012 non-null  float64\n",
      " 51  Soil_Type_37                        581012 non-null  float64\n",
      " 52  Soil_Type_38                        581012 non-null  float64\n",
      " 53  Soil_Type_39                        581012 non-null  float64\n",
      " 54  Cover_Type                          581012 non-null  int32  \n",
      "dtypes: float64(54), int32(1)\n",
      "memory usage: 241.6 MB\n"
     ]
    }
   ],
   "source": [
    "dbunch = datasets.fetch_covtype(as_frame=True)\n",
    "df = dbunch.frame\n",
    "features = dbunch.feature_names \n",
    "df.info()"
   ]
  },
  {
   "cell_type": "markdown",
   "metadata": {},
   "source": [
    "Here again the features are all numeric, so we don't need to further preprocess them.\n",
    "Let's have a look at the target."
   ]
  },
  {
   "cell_type": "code",
   "execution_count": 232,
   "metadata": {},
   "outputs": [
    {
     "data": {
      "image/png": "[encoded data removed]",
      "text/plain": [
       "<Figure size 640x480 with 1 Axes>"
      ]
     },
     "metadata": {},
     "output_type": "display_data"
    }
   ],
   "source": [
    "#| fig-alt: bar plot showing the count of observations in each class\n",
    "#| fig-cap: class counts for the forest cover type dataset\n",
    "\n",
    "df['Cover_Type'].value_counts().sort_index().plot.bar()\n",
    "plt.xlabel('cover type') \n",
    "plt.ylabel('count');"
   ]
  },
  {
   "cell_type": "markdown",
   "metadata": {},
   "source": [
    "For multi-class classification, our target variable must take values in $\\{0,1,\\dots,K\\}$.\n",
    "However, from the histogram of the cover type above, we see that it takes values in $\\{1,2,\\dots,7\\}$.\n",
    "To fix this we can use the [scikit-learn label encoder](https://scikit-learn.org/stable/modules/generated/sklearn.preprocessing.LabelEncoder.html) \n",
    "to create a valid target column."
   ]
  },
  {
   "cell_type": "code",
   "execution_count": 240,
   "metadata": {},
   "outputs": [
    {
     "name": "stdout",
     "output_type": "stream",
     "text": [
      "[0 1 2 3 4 5 6]\n"
     ]
    }
   ],
   "source": [
    "from sklearn.preprocessing import LabelEncoder \n",
    "\n",
    "target = 'encoded'\n",
    "enc = LabelEncoder()\n",
    "df[target] = enc.fit_transform(df['Cover_Type'])\n",
    "print(np.sort(df[target].unique()))"
   ]
  },
  {
   "cell_type": "markdown",
   "metadata": {},
   "source": [
    "Then we can create training and validation sets."
   ]
  },
  {
   "cell_type": "code",
   "execution_count": 241,
   "metadata": {},
   "outputs": [
    {
     "data": {
      "text/plain": [
       "((561012, 56), (20000, 56))"
      ]
     },
     "execution_count": 241,
     "metadata": {},
     "output_type": "execute_result"
    }
   ],
   "source": [
    "n_valid = 20000\n",
    "\n",
    "train_df, valid_df = train_test_split(df, test_size=n_valid, random_state=42)\n",
    "train_df.shape, valid_df.shape"
   ]
  },
  {
   "cell_type": "markdown",
   "metadata": {},
   "source": [
    "### Training with the `train` function\n",
    "\n",
    "If you're training with the `train` function, multi-class classification can be done with two objectives: `multi:softmax` and `multi:softprob`. \n",
    "Both use the same loss function, negative multinomial log likelihood, but the softmax option produces a trained `Booster` object whose predict method returns a 1d array of predicted labels, whereas the softprob option produces a trained `Booster` object whose predict method returns a 2d array of predicted probabilities.\n",
    "In either case, you also need to explicitly tell XGBoost how many classes the target has with the `num_class` parameter."
   ]
  },
  {
   "cell_type": "code",
   "execution_count": 242,
   "metadata": {},
   "outputs": [
    {
     "name": "stdout",
     "output_type": "stream",
     "text": [
      "[0]\ttrain-mlogloss:1.42032\tvalid-mlogloss:1.42366\n",
      "[2]\ttrain-mlogloss:1.00541\tvalid-mlogloss:1.00963\n",
      "[4]\ttrain-mlogloss:0.80557\tvalid-mlogloss:0.81109\n",
      "[6]\ttrain-mlogloss:0.69432\tvalid-mlogloss:0.70085\n",
      "[8]\ttrain-mlogloss:0.62653\tvalid-mlogloss:0.63350\n",
      "[9]\ttrain-mlogloss:0.60111\tvalid-mlogloss:0.60794\n"
     ]
    }
   ],
   "source": [
    "params = {\n",
    "    'tree_method': 'approx',\n",
    "    'objective': 'multi:softprob',\n",
    "    'num_class': df[target].nunique()\n",
    "}\n",
    "num_boost_round = 10\n",
    "\n",
    "dtrain = xgb.DMatrix(label=train_df[target], data=train_df[features])\n",
    "dvalid = xgb.DMatrix(label=valid_df[target], data=valid_df[features])\n",
    "model = xgb.train(params=params, dtrain=dtrain, num_boost_round=num_boost_round,\n",
    "                  evals=[(dtrain, 'train'), (dvalid, 'valid')],\n",
    "                  verbose_eval=2)"
   ]
  },
  {
   "cell_type": "markdown",
   "metadata": {},
   "source": [
    "### Training with `XGBClassifier`\n",
    "\n",
    "In multi-class classification, I think  the scikit-learn `XGBClassifier` wrapper is quite a bit more convenient than the native `train` function.\n",
    "You can set the `objective` parameter to `multi:softprob`, and `XGBClassifier.fit` will produce a model having both `predict` and `predict_proba` methods.\n",
    "Also there is no need to explicitly set the number of classes in the target and no need to create the `DMatrix` objects."
   ]
  },
  {
   "cell_type": "code",
   "execution_count": 243,
   "metadata": {},
   "outputs": [
    {
     "name": "stdout",
     "output_type": "stream",
     "text": [
      "[0]\tvalidation_0-mlogloss:1.42032\tvalidation_1-mlogloss:1.42366\n",
      "[2]\tvalidation_0-mlogloss:1.00541\tvalidation_1-mlogloss:1.00963\n",
      "[4]\tvalidation_0-mlogloss:0.80557\tvalidation_1-mlogloss:0.81109\n",
      "[6]\tvalidation_0-mlogloss:0.69432\tvalidation_1-mlogloss:0.70085\n",
      "[8]\tvalidation_0-mlogloss:0.62653\tvalidation_1-mlogloss:0.63350\n",
      "[9]\tvalidation_0-mlogloss:0.60111\tvalidation_1-mlogloss:0.60794\n"
     ]
    }
   ],
   "source": [
    "params = {\n",
    "    'tree_method': 'approx',\n",
    "    'objective': 'multi:softprob',\n",
    "}\n",
    "num_boost_round = 10\n",
    "\n",
    "clf = xgb.XGBClassifier(n_estimators=num_boost_round, **params)\n",
    "clf.fit(train_df[features], train_df[target], \n",
    "        eval_set=[(train_df[features], train_df[target]), (valid_df[features], valid_df[target])], \n",
    "        verbose=2);"
   ]
  },
  {
   "cell_type": "markdown",
   "metadata": {},
   "source": [
    "### Evaluating the Model\n",
    "\n",
    "This time, we'll kee; the entire 2d array of predicted probabilities in `y_score`."
   ]
  },
  {
   "cell_type": "code",
   "execution_count": 245,
   "metadata": {},
   "outputs": [
    {
     "data": {
      "text/plain": [
       "((20000,), (20000,), (20000, 7))"
      ]
     },
     "execution_count": 245,
     "metadata": {},
     "output_type": "execute_result"
    }
   ],
   "source": [
    "y_true = valid_df[target]\n",
    "y_pred = clf.predict(valid_df[features])\n",
    "y_score = clf.predict_proba(valid_df[features])\n",
    "y_true.shape, y_pred.shape, y_score.shape"
   ]
  },
  {
   "cell_type": "code",
   "execution_count": 246,
   "metadata": {},
   "outputs": [
    {
     "data": {
      "text/plain": [
       "0.77425"
      ]
     },
     "execution_count": 246,
     "metadata": {},
     "output_type": "execute_result"
    }
   ],
   "source": [
    "metrics.accuracy_score(y_true, y_pred)"
   ]
  },
  {
   "cell_type": "code",
   "execution_count": 247,
   "metadata": {},
   "outputs": [
    {
     "name": "stdout",
     "output_type": "stream",
     "text": [
      "              precision    recall  f1-score   support\n",
      "\n",
      "           0       0.77      0.74      0.75      7365\n",
      "           1       0.78      0.84      0.81      9725\n",
      "           2       0.75      0.85      0.80      1207\n",
      "           3       0.82      0.78      0.80        85\n",
      "           4       0.93      0.26      0.40       317\n",
      "           5       0.76      0.31      0.44       627\n",
      "           6       0.88      0.68      0.77       674\n",
      "\n",
      "    accuracy                           0.77     20000\n",
      "   macro avg       0.81      0.64      0.68     20000\n",
      "weighted avg       0.78      0.77      0.77     20000\n",
      "\n"
     ]
    }
   ],
   "source": [
    "print(metrics.classification_report(y_true, y_pred))"
   ]
  },
  {
   "cell_type": "markdown",
   "metadata": {},
   "source": [
    "Some binary classification metrics, like AUC, can be extended to the multi-class setting\n",
    "by computing the metric for each class, then averaging in some way to get an overall score. \n",
    "The details are controlled by the `average` and `multi_class` parameters, which are described in the\n",
    "[documentation](https://scikit-learn.org/stable/modules/generated/sklearn.metrics.roc_auc_score.html#sklearn.metrics.roc_auc_score)."
   ]
  },
  {
   "cell_type": "code",
   "execution_count": 248,
   "metadata": {},
   "outputs": [
    {
     "data": {
      "text/plain": [
       "0.9129422094408693"
      ]
     },
     "execution_count": 248,
     "metadata": {},
     "output_type": "execute_result"
    }
   ],
   "source": [
    "metrics.roc_auc_score(y_true, y_score, average='weighted', multi_class='ovr')"
   ]
  },
  {
   "cell_type": "markdown",
   "metadata": {},
   "source": [
    "### Feature Importance\n",
    "\n",
    "We can compute permutation feature importance with exactly the same code that we used for the binary classifier."
   ]
  },
  {
   "cell_type": "code",
   "execution_count": 249,
   "metadata": {},
   "outputs": [],
   "source": [
    "scorer = make_scorer(metrics.log_loss, greater_is_better=False, needs_proba=True)\n",
    "permu_imp = permutation_importance(clf, valid_df[features], valid_df[target], \n",
    "                                   n_repeats=30, random_state=0, scoring=scorer)"
   ]
  },
  {
   "cell_type": "code",
   "execution_count": 250,
   "metadata": {},
   "outputs": [
    {
     "data": {
      "image/png": "[encoded data removed]",
      "text/plain": [
       "<Figure size 640x480 with 1 Axes>"
      ]
     },
     "metadata": {},
     "output_type": "display_data"
    }
   ],
   "source": [
    "#| fig-alt: horizontal bar plot showing permutation feature importance\n",
    "#| fig-cap: top 10 features by permutation importance on validation set\n",
    "\n",
    "importances_permutation = pd.Series(permu_imp['importances_mean'], index=features)\n",
    "importances_permutation.sort_values(ascending=True)[-10:].plot.barh()\n",
    "plt.title('Permutation Importance on Out-of-Sample Set')\n",
    "plt.xlabel('change in multivariate log likelihood');\n"
   ]
  },
  {
   "cell_type": "markdown",
   "metadata": {},
   "source": [
    "## Wrapping Up\n",
    "\n",
    "Well, for me, those are really the minimal nuts and bolts one needs to get XGBoost models working on classification problems.\n",
    "If you dig this tutorial, or if you have additional insights into using XGBoost to solve classification problems, let me know about it down in the comments!\n",
    "\n",
    "## Go Deeper\n",
    "\n",
    "If you're feeling like Alice, and you want to go tumbling down the rabbit hole, might I recommend checking out some of the following:\n",
    "\n",
    "* [XGBoost Explained](/posts/xgboost-explained/) - for a deep dive into the math \n",
    "* [XGBoost from Scratch](/posts/xgboost-from-scratch/) - to really understand how XGBoost works\n",
    "* [Multi-Class Gradient Boosting from Scratch](/posts/gradient-boosting-multi-class-classification-from-scratch/) - to fully grok the multi-class gradient boosting algorithm"
   ]
  }
 ],
 "metadata": {
  "kernelspec": {
   "display_name": "basic",
   "language": "python",
   "name": "python3"
  },
  "language_info": {
   "codemirror_mode": {
    "name": "ipython",
    "version": 3
   },
   "file_extension": ".py",
   "mimetype": "text/x-python",
   "name": "python",
   "nbconvert_exporter": "python",
   "pygments_lexer": "ipython3",
   "version": "3.9.13"
  }
 },
 "nbformat": 4,
 "nbformat_minor": 2
}
