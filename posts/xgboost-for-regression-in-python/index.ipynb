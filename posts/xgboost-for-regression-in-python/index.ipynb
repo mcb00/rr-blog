{
 "cells": [
  {
   "cell_type": "raw",
   "metadata": {},
   "source": [
    "---\n",
    "title: XGBoost for Regression in Python\n",
    "categories:\n",
    "- python\n",
    "- tutorial\n",
    "- gradient boosting\n",
    "- xgboost\n",
    "date: '2023-09-18'\n",
    "description: A step-bystep tutorial on regression with XGBoost in python using sklearn and the xgboost library\n",
    "draft: false\n",
    "image: kigali-branches.jpg\n",
    "image-alt: branches reach into the Kigali sky\n",
    "---\n",
    "\n"
   ]
  },
  {
   "cell_type": "markdown",
   "metadata": {},
   "source": [
    "In this post I'm going to show you my process for solving regression problems with XGBoost in python, using either the native `xgboost` API or the scikit-learn interface.\n",
    "This is a  powerful methodology that can produce world class results in a short time with minimal thought or effort.\n",
    "While we'll be working on an old Kagle competition for predicting the sale prices of bulldozers and other heavy machinery, you can use this flow to solve whatever tabular data regression problem you're working on.\n",
    "\n",
    "This post serves as the explanation and documentation for  the\n",
    "XGBoost regression jupyter notebook from my \n",
    "[ds-templates repo](https://github.com/mcb00/ds-templates)\n",
    "on GitHub, so go ahead and download the notebook and follow along with your own data.\n",
    "\n",
    "If you're not already comfortable with the ideas behind gradient boosting and XGBoost, you'll find it helpful to read some of my previous posts to get up to speed.\n",
    "I'd start with this [introduction to gradient boosting](/posts/gradient-boosting-machine-from-scratch/),\n",
    "and then read this [explanation of how XGBoost works](/posts/xgboost-explained/).\n",
    "\n",
    "Let's get into it! 🚀\n",
    "\n"
   ]
  },
  {
   "cell_type": "markdown",
   "metadata": {},
   "source": [
    "## Install and import the `xgboost` library\n",
    "\n",
    "If you don't already have it, go ahead and [use conda to install the xgboost library](https://anaconda.org/conda-forge/xgboost), e.g.\n",
    "\n",
    "```.zsh\n",
    "$ conda install -c conda-forge xgboost\n",
    "```\n",
    "\n",
    "Then import it along with the usual suspects."
   ]
  },
  {
   "cell_type": "code",
   "execution_count": 2,
   "metadata": {},
   "outputs": [],
   "source": [
    "import numpy as np\n",
    "import pandas as pd\n",
    "import matplotlib.pyplot as plt\n",
    "import xgboost as xgb"
   ]
  },
  {
   "cell_type": "markdown",
   "metadata": {},
   "source": [
    "## Read dataset into python\n",
    "\n",
    "In this example we'll work on the \n",
    "[Kagle Bluebook for Bulldozers](https://www.kaggle.com/competitions/bluebook-for-bulldozers/overview)\n",
    "competition, which asks us to build a regression model to predict the sale price of heavy equipment.\n",
    "Amazingly, you can solve your own regression problem by swapping this data out with your organization's data before proceeding with the tutorial.\n",
    "\n",
    "Go ahead and download the `Train.zip` file from Kagle and extract it into `Train.csv`.\n",
    "Then read the data into a pandas dataframe."
   ]
  },
  {
   "cell_type": "code",
   "execution_count": 3,
   "metadata": {},
   "outputs": [
    {
     "name": "stderr",
     "output_type": "stream",
     "text": [
      "/var/folders/p3/n6r4g5mj3m3dhls3j66tztmh0000gn/T/ipykernel_49280/374828784.py:2: DtypeWarning: Columns (13,39,40,41) have mixed types. Specify dtype option on import or set low_memory=False.\n",
      "  df = pd.read_csv('Train.csv', parse_dates=['saledate']);\n"
     ]
    }
   ],
   "source": [
    "#| output: false\n",
    "df = pd.read_csv('Train.csv', parse_dates=['saledate']);"
   ]
  },
  {
   "cell_type": "markdown",
   "metadata": {},
   "source": [
    "Notice I cheated a little bit, checking the columns ahead of time and telling pandas to treat the `saledate` column as a date.\n",
    "In general it will make life easier to read in any date-like columns as dates."
   ]
  },
  {
   "cell_type": "code",
   "execution_count": 4,
   "metadata": {},
   "outputs": [
    {
     "name": "stdout",
     "output_type": "stream",
     "text": [
      "<class 'pandas.core.frame.DataFrame'>\n",
      "RangeIndex: 401125 entries, 0 to 401124\n",
      "Data columns (total 53 columns):\n",
      " #   Column                    Non-Null Count   Dtype         \n",
      "---  ------                    --------------   -----         \n",
      " 0   SalesID                   401125 non-null  int64         \n",
      " 1   SalePrice                 401125 non-null  int64         \n",
      " 2   MachineID                 401125 non-null  int64         \n",
      " 3   ModelID                   401125 non-null  int64         \n",
      " 4   datasource                401125 non-null  int64         \n",
      " 5   auctioneerID              380989 non-null  float64       \n",
      " 6   YearMade                  401125 non-null  int64         \n",
      " 7   MachineHoursCurrentMeter  142765 non-null  float64       \n",
      " 8   UsageBand                 69639 non-null   object        \n",
      " 9   saledate                  401125 non-null  datetime64[ns]\n",
      " 10  fiModelDesc               401125 non-null  object        \n",
      " 11  fiBaseModel               401125 non-null  object        \n",
      " 12  fiSecondaryDesc           263934 non-null  object        \n",
      " 13  fiModelSeries             56908 non-null   object        \n",
      " 14  fiModelDescriptor         71919 non-null   object        \n",
      " 15  ProductSize               190350 non-null  object        \n",
      " 16  fiProductClassDesc        401125 non-null  object        \n",
      " 17  state                     401125 non-null  object        \n",
      " 18  ProductGroup              401125 non-null  object        \n",
      " 19  ProductGroupDesc          401125 non-null  object        \n",
      " 20  Drive_System              104361 non-null  object        \n",
      " 21  Enclosure                 400800 non-null  object        \n",
      " 22  Forks                     192077 non-null  object        \n",
      " 23  Pad_Type                  79134 non-null   object        \n",
      " 24  Ride_Control              148606 non-null  object        \n",
      " 25  Stick                     79134 non-null   object        \n",
      " 26  Transmission              183230 non-null  object        \n",
      " 27  Turbocharged              79134 non-null   object        \n",
      " 28  Blade_Extension           25219 non-null   object        \n",
      " 29  Blade_Width               25219 non-null   object        \n",
      " 30  Enclosure_Type            25219 non-null   object        \n",
      " 31  Engine_Horsepower         25219 non-null   object        \n",
      " 32  Hydraulics                320570 non-null  object        \n",
      " 33  Pushblock                 25219 non-null   object        \n",
      " 34  Ripper                    104137 non-null  object        \n",
      " 35  Scarifier                 25230 non-null   object        \n",
      " 36  Tip_Control               25219 non-null   object        \n",
      " 37  Tire_Size                 94718 non-null   object        \n",
      " 38  Coupler                   213952 non-null  object        \n",
      " 39  Coupler_System            43458 non-null   object        \n",
      " 40  Grouser_Tracks            43362 non-null   object        \n",
      " 41  Hydraulics_Flow           43362 non-null   object        \n",
      " 42  Track_Type                99153 non-null   object        \n",
      " 43  Undercarriage_Pad_Width   99872 non-null   object        \n",
      " 44  Stick_Length              99218 non-null   object        \n",
      " 45  Thumb                     99288 non-null   object        \n",
      " 46  Pattern_Changer           99218 non-null   object        \n",
      " 47  Grouser_Type              99153 non-null   object        \n",
      " 48  Backhoe_Mounting          78672 non-null   object        \n",
      " 49  Blade_Type                79833 non-null   object        \n",
      " 50  Travel_Controls           79834 non-null   object        \n",
      " 51  Differential_Type         69411 non-null   object        \n",
      " 52  Steering_Controls         69369 non-null   object        \n",
      "dtypes: datetime64[ns](1), float64(2), int64(6), object(44)\n",
      "memory usage: 162.2+ MB\n"
     ]
    }
   ],
   "source": [
    "df.info()"
   ]
  },
  {
   "cell_type": "markdown",
   "metadata": {},
   "source": [
    "## Prepare raw data for XGBoost\n",
    "\n",
    "When faced with a new tabular dataset for modeling, we have two format considerations: data types and missingness.\n",
    "From the call to `df.info()` above, we can see we have both mixed types and missing values.\n",
    "\n",
    "When it comes to missing values, some models like the gradient booster or random forest in scikit-learn require purely non-missing inputs. \n",
    "One of the great strengths of XGBoost is that it relaxes this requirement, allowing us to pass in missing feature values, so we don't have to worry about them.\n",
    "\n",
    "Regarding  data types, all ML models for tabular data require inputs to be numeric, either integers or floats, so we're going to have to deal with those `object` columns.\n",
    "\n"
   ]
  },
  {
   "cell_type": "markdown",
   "metadata": {},
   "source": [
    "### Encode string features\n",
    "\n",
    "The simplest way to encode string variables is to map each unique string value to an integer;\n",
    "this is called *integer encoding*.\n",
    "\n",
    "We can easily accomplish this by using the [categorical data type in pandas](https://pandas.pydata.org/docs/user_guide/categorical.html).\n",
    "The category type is a bit like the factor type in R;\n",
    "pandas stores the underlying data as integers, and it keeps a mapping from the integers back to the original string values.\n",
    "XGBoost is able to access the numeric data underlying the categorical features for model training and prediction.\n",
    "This is a nice way to encode string features because it's easy to implement and it preserves the original category levels in the data frame.\n",
    "If you prefer to generate your own integer mappings, you can also do it with the scikit-learn\n",
    "[OrdinalEncoder](https://scikit-learn.org/stable/modules/generated/sklearn.preprocessing.OrdinalEncoder.html)."
   ]
  },
  {
   "cell_type": "code",
   "execution_count": 5,
   "metadata": {},
   "outputs": [],
   "source": [
    "def encode_string_features(df):\n",
    "    out_df = df.copy()\n",
    "    for feature, feature_type in df.dtypes.items():\n",
    "        if feature_type == 'object':\n",
    "            out_df[feature] = out_df[feature].astype('category')\n",
    "    return out_df\n",
    "\n",
    "df = encode_string_features(df)"
   ]
  },
  {
   "cell_type": "markdown",
   "metadata": {},
   "source": [
    "### Encode date and timestamp features\n",
    "\n",
    "While dates feel sort of numeric, they are not numbers, so we need to transform them  into numeric columns.\n",
    "Unfortunately, encoding timestamps isn't as straightforward as encoding strings, so we actually might need to engage in a little bit of feature engineering.\n",
    "A single date has many different attributes, e.g. days since epoch, year, quarter, month, day, day of year, day of week, is holiday, etc.\n",
    "As a starting point, we can just add a few of these attributes as features.\n",
    "Once a feature is represented as a date or timestamp data type, you can access various attributes via the `dt` attribute."
   ]
  },
  {
   "cell_type": "code",
   "execution_count": 5,
   "metadata": {},
   "outputs": [],
   "source": [
    "def encode_datetime_features(df, datetime_features, datetime_attributes):\n",
    "    out_df = df.copy()\n",
    "    for datetime_feature in datetime_features:\n",
    "        for datetime_attribute in datetime_attributes:\n",
    "            if datetime_attribute == 'days_since_epoch':\n",
    "                out_df[f'{datetime_feature}_{datetime_attribute}'] = \\\n",
    "                    (out_df[datetime_feature] \n",
    "                     - pd.Timestamp(year=1970, month=1, day=1)).dt.days\n",
    "            else:\n",
    "                out_df[f'{datetime_feature}_{datetime_attribute}'] = \\\n",
    "                    getattr(out_df[datetime_feature].dt, datetime_attribute)\n",
    "    return out_df\n",
    "\n",
    "datetime_features = [\n",
    "    'saledate',\n",
    "]\n",
    "datetime_attributes = [\n",
    "    'year',\n",
    "    'month',\n",
    "    'day',\n",
    "    'quarter',\n",
    "    'day_of_year',\n",
    "    'day_of_week',\n",
    "    'days_since_epoch',\n",
    "]\n",
    "\n",
    "df = encode_datetime_features(df, datetime_features, datetime_attributes)"
   ]
  },
  {
   "cell_type": "markdown",
   "metadata": {},
   "source": [
    "### Transform the target if necessary\n",
    "\n",
    "In the interest of speed and efficiency, we didn't bother doing any EDA with the feature data. Part of my justification for this is that trees are incredibly robust to outliers, colinearity, missingness, and other assorted nonsense in the feature data.\n",
    "However, they are not necessarily robust to nonsense in the target variable, so it's worth having a look at it before proceeding any further."
   ]
  },
  {
   "cell_type": "code",
   "execution_count": 6,
   "metadata": {},
   "outputs": [
    {
     "data": {
      "image/png": "[encoded data removed]",
      "text/plain": [
       "<Figure size 640x480 with 1 Axes>"
      ]
     },
     "metadata": {},
     "output_type": "display_data"
    }
   ],
   "source": [
    "#| fig-alt: histogram of sale price showing right-skewed data\n",
    "df.SalePrice.hist(); plt.xlabel('SalePrice');"
   ]
  },
  {
   "cell_type": "markdown",
   "metadata": {},
   "source": [
    "Often when predicting prices it makes sense to use log price, especially when they span multiple orders of magnitude or have a strong right skew.\n",
    "These data look pretty friendly, lacking outliers and exhibiting only a mild positive skew; we could probably get away without doing any transformation.\n",
    "But checking the evaluation metric used to score the Kagle competition, we see they're using root mean squared log error.\n",
    "That's equivalent to using RMSE on log-transformed target data, so let's go ahead and work with log prices."
   ]
  },
  {
   "cell_type": "code",
   "execution_count": 7,
   "metadata": {},
   "outputs": [
    {
     "data": {
      "image/png": "[encoded data removed]",
      "text/plain": [
       "<Figure size 640x480 with 1 Axes>"
      ]
     },
     "metadata": {},
     "output_type": "display_data"
    }
   ],
   "source": [
    "#| fig-alt: histogram of log sale price showing a more symetric distribution\n",
    "df['logSalePrice'] = np.log1p(df['SalePrice'])\n",
    "df.logSalePrice.hist(); plt.xlabel('logSalePrice');"
   ]
  },
  {
   "cell_type": "markdown",
   "metadata": {},
   "source": [
    "### A note on data transformation robustness\n",
    "\n",
    "Before we jump into training models, let’s talk about how our approach to data transformation  might differ between initial modeling explorations and building robust production-ready ML applications.\n",
    "When faced with a new modeling problem, our priority is usually to get a prototype model working ASAP. \n",
    "Often it’s fastest and easiest to apply transformations to the entire dataset before splitting it into training and validation subsets and commencing model iterations.\n",
    "That’s the approach we’re taking here.\n",
    "\n",
    "As we move beyond proof of concept toward a production-ready ML application, we would want to start thinking carefully about robustness in our data transformations.\n",
    "Considerations might include issues like  how we handle prediction with new values of categorical variables which were not present in training or how to prevent leakage in transformations that compute statistics over the entire dataset.\n",
    "We can benefit from using tools like scikit-learn’s [`Pipeline`](https://scikit-learn.org/stable/modules/generated/sklearn.pipeline.Pipeline.html) to chain transformations together and prevent leaking information from the training data into the validation data.\n",
    "We'll save the details of robust data transformation  for another post."
   ]
  },
  {
   "cell_type": "markdown",
   "metadata": {},
   "source": [
    "## Train and Evaluate the XGBoost regression model\n",
    "\n",
    "Having prepared our dataset, we are now ready to train an XGBoost model.\n",
    "We'll walk through the flow step-by-step first, then later we'll collect the code in a single cell, so it's easier to quickly iterate through variations of the model.\n",
    "\n",
    "### Specify target and feature columns\n",
    "First we'll put together a list of our features and define the target column.\n",
    "I like to have an actual list defined in the code so it's easier to see everything we're puting into the model and easier to add or remove features as we iterate.\n",
    "Just run something like `list(df.columns)` in a cel to get a copy-pasteable list of columns, then edit it down to the full list of features, i.e. remove the target, date columns, and other non-feature columns.."
   ]
  },
  {
   "cell_type": "code",
   "execution_count": 8,
   "metadata": {},
   "outputs": [],
   "source": [
    "# list(df.columns)"
   ]
  },
  {
   "cell_type": "code",
   "execution_count": 9,
   "metadata": {},
   "outputs": [],
   "source": [
    "features = [\n",
    "    'SalesID',\n",
    "    'MachineID',\n",
    "    'ModelID',\n",
    "    'datasource',\n",
    "    'auctioneerID',\n",
    "    'YearMade',\n",
    "    'MachineHoursCurrentMeter',\n",
    "    'UsageBand',\n",
    "    'fiModelDesc',\n",
    "    'fiBaseModel',\n",
    "    'fiSecondaryDesc',\n",
    "    'fiModelSeries',\n",
    "    'fiModelDescriptor',\n",
    "    'ProductSize',\n",
    "    'fiProductClassDesc',\n",
    "    'state',\n",
    "    'ProductGroup',\n",
    "    'ProductGroupDesc',\n",
    "    'Drive_System',\n",
    "    'Enclosure',\n",
    "    'Forks',\n",
    "    'Pad_Type',\n",
    "    'Ride_Control',\n",
    "    'Stick',\n",
    "    'Transmission',\n",
    "    'Turbocharged',\n",
    "    'Blade_Extension',\n",
    "    'Blade_Width',\n",
    "    'Enclosure_Type',\n",
    "    'Engine_Horsepower',\n",
    "    'Hydraulics',\n",
    "    'Pushblock',\n",
    "    'Ripper',\n",
    "    'Scarifier',\n",
    "    'Tip_Control',\n",
    "    'Tire_Size',\n",
    "    'Coupler',\n",
    "    'Coupler_System',\n",
    "    'Grouser_Tracks',\n",
    "    'Hydraulics_Flow',\n",
    "    'Track_Type',\n",
    "    'Undercarriage_Pad_Width',\n",
    "    'Stick_Length',\n",
    "    'Thumb',\n",
    "    'Pattern_Changer',\n",
    "    'Grouser_Type',\n",
    "    'Backhoe_Mounting',\n",
    "    'Blade_Type',\n",
    "    'Travel_Controls',\n",
    "    'Differential_Type',\n",
    "    'Steering_Controls',\n",
    "    'saledate_year',\n",
    "    'saledate_month',\n",
    "    'saledate_day',\n",
    "    'saledate_quarter',\n",
    "    'saledate_day_of_year',\n",
    "    'saledate_day_of_week',\n",
    "    'saledate_days_since_epoch'\n",
    "]\n",
    "\n",
    "target = 'logSalePrice'"
   ]
  },
  {
   "cell_type": "markdown",
   "metadata": {},
   "source": [
    "### Split the data into training and validation sets\n",
    "\n",
    "Next we split the dataset into a training set and a validation set.\n",
    "Of course since we're going to evaluate against the validation set a number of times as we iterate, it's best practice to keep a separate test set reserved to check our final model to ensure it generalizes well.\n",
    "Assuming that final test set is hidden away, we can use the rest of the data for training and validation.\n",
    "\n",
    "There are two main ways we might want to select the validation set.\n",
    "If there isn't a temporal ordering of the observations, we might be able to randomly sample.\n",
    "In practice, it's much more common that observations have a temporal ordering, and that models are trained on observations up to a certain time and used to predict on observations occuring after that time.\n",
    "Since this data is temporal, we don't want to split randomly; instead we'll split on observation date, reserving the latest observations for the validation set."
   ]
  },
  {
   "cell_type": "code",
   "execution_count": 10,
   "metadata": {},
   "outputs": [],
   "source": [
    "# Temporal Validation Set\n",
    "def train_test_split_temporal(df, datetime_column, n_test):\n",
    "    idx_sort = np.argsort(df[datetime_column])\n",
    "    idx_train, idx_test = idx_sort[:-n_valid], idx_sort[-n_valid:]\n",
    "    return df.iloc[idx_train, :], df.iloc[idx_test, :]\n",
    "\n",
    "\n",
    "# Random Validation Set\n",
    "def train_test_split_random(df, n_test):\n",
    "    np.random.seed(42)\n",
    "    idx_sort = np.random.permutation(len(df))\n",
    "    idx_train, idx_test = idx_sort[:-n_valid], idx_sort[-n_valid:]\n",
    "    return df.iloc[idx_train, :], df.iloc[idx_test, :]\n",
    "\n",
    "my_train_test_split = lambda d, n_valid: train_test_split_temporal(d, 'saledate', n_valid)\n",
    "# my_train_test_split = lambda d, n_valid: train_test_split_random(d, n_valid)"
   ]
  },
  {
   "cell_type": "code",
   "execution_count": 11,
   "metadata": {},
   "outputs": [
    {
     "data": {
      "text/plain": [
       "((389125, 61), (12000, 61))"
      ]
     },
     "execution_count": 11,
     "metadata": {},
     "output_type": "execute_result"
    }
   ],
   "source": [
    "n_valid = 12000\n",
    "train_df, valid_df = my_train_test_split(df, n_valid)\n",
    "\n",
    "train_df.shape, valid_df.shape"
   ]
  },
  {
   "cell_type": "markdown",
   "metadata": {},
   "source": [
    "### Create `DMatrix` data objects\n",
    "\n",
    "XGBoost uses a data type called dense matrix for efficient training and prediction, so next we need to create `DMatrix` objects for our training and validation datasets.\n",
    "\n",
    "> If you prefer to use the scikit-learn interface to XGBoost, you don't need to create these dense matrix objects. More on that below."
   ]
  },
  {
   "cell_type": "code",
   "execution_count": 12,
   "metadata": {},
   "outputs": [],
   "source": [
    "dtrain = xgb.DMatrix(data=train_df[features], label=train_df[target], enable_categorical=True)\n",
    "dvalid = xgb.DMatrix(data=valid_df[features], label=valid_df[target], enable_categorical=True)"
   ]
  },
  {
   "cell_type": "markdown",
   "metadata": {},
   "source": [
    "### Set the XGBoost parameters\n",
    "\n",
    "XGBoost has [numerous hyperparameters](https://xgboost.readthedocs.io/en/latest/parameter.html).\n",
    "Fortunately, just a handful of them tend to be the most influential; furthermore, the default values are not bad in most situations.\n",
    "I like to start out with a dictionary containing the default parameter values for just the ones I think are most important.\n",
    "For training there is one required boosting parameter called `num_boost_round` which I set to 50 as a starting point; you can make this smaller initially if training takes too long."
   ]
  },
  {
   "cell_type": "code",
   "execution_count": 13,
   "metadata": {},
   "outputs": [],
   "source": [
    "# default values for important parameters\n",
    "params = {\n",
    "    'learning_rate': 0.3,\n",
    "    'max_depth': 6,\n",
    "    'min_child_weight': 1,\n",
    "    'subsample': 1,\n",
    "    'colsample_bynode': 1,\n",
    "    'objective': 'reg:squarederror',\n",
    "}\n",
    "num_boost_round = 50"
   ]
  },
  {
   "cell_type": "markdown",
   "metadata": {},
   "source": [
    "### Train the XGBoost model\n",
    "\n",
    "Check out the [documentation on the learning API](https://xgboost.readthedocs.io/en/latest/python/python_api.html#module-xgboost.training)\n",
    "to see all the training options.\n",
    "During training, I like to have XGBoost print out the evaluation metric on the train and validation set after every few boosting rounds and again at the end of training; that can be done by setting `evals` and `verbose_eval`.\n",
    "You can also save the evaluation results in a dictionary passed into `evals_result` to inspect and plot the objective curve over the training iterations."
   ]
  },
  {
   "cell_type": "code",
   "execution_count": 14,
   "metadata": {},
   "outputs": [
    {
     "name": "stdout",
     "output_type": "stream",
     "text": [
      "[0]\ttrain-rmse:6.74422\tvalid-rmse:6.79733\n",
      "[10]\ttrain-rmse:0.34798\tvalid-rmse:0.37158\n",
      "[20]\ttrain-rmse:0.26289\tvalid-rmse:0.28239\n",
      "[30]\ttrain-rmse:0.25148\tvalid-rmse:0.27028\n",
      "[40]\ttrain-rmse:0.24375\tvalid-rmse:0.26420\n",
      "[49]\ttrain-rmse:0.23738\tvalid-rmse:0.25855\n"
     ]
    }
   ],
   "source": [
    "evals_result = {}\n",
    "m = xgb.train(params=params, dtrain=dtrain, num_boost_round=num_boost_round,\n",
    "              evals=[(dtrain, 'train'), (dvalid, 'valid')],\n",
    "              verbose_eval=10,\n",
    "              evals_result=evals_result)"
   ]
  },
  {
   "cell_type": "markdown",
   "metadata": {},
   "source": [
    "### Train the XGBoost model using the sklearn interface\n",
    "\n",
    "You can optionally use the [sklearn estimator interface](https://xgboost.readthedocs.io/en/latest/python/sklearn_estimator.html)\n",
    "to XGBoost.\n",
    "This will bypass the need to use the `DMatrix` data objects for training and prediction, and it will allow you to leverage many of the other scikit-learn ecosystem tools like pipelines, parameter search, partial dependence plots, etc.\n",
    "The `XGBRegressor` is available in the `xgboost` library that we've already imported."
   ]
  },
  {
   "cell_type": "code",
   "execution_count": 15,
   "metadata": {},
   "outputs": [
    {
     "name": "stdout",
     "output_type": "stream",
     "text": [
      "[0]\tvalidation_0-rmse:6.74422\tvalidation_1-rmse:6.79733\n",
      "[10]\tvalidation_0-rmse:0.34798\tvalidation_1-rmse:0.37158\n",
      "[20]\tvalidation_0-rmse:0.26289\tvalidation_1-rmse:0.28239\n",
      "[30]\tvalidation_0-rmse:0.25148\tvalidation_1-rmse:0.27028\n",
      "[40]\tvalidation_0-rmse:0.24375\tvalidation_1-rmse:0.26420\n",
      "[49]\tvalidation_0-rmse:0.23738\tvalidation_1-rmse:0.25855\n"
     ]
    }
   ],
   "source": [
    "# scikit-learn interface\n",
    "reg = xgb.XGBRegressor(n_estimators=num_boost_round, **params)\n",
    "reg.fit(train_df[features], train_df[target], \n",
    "        eval_set=[(train_df[features], train_df[target]), (valid_df[features], valid_df[target])], \n",
    "        verbose=10);"
   ]
  },
  {
   "cell_type": "markdown",
   "metadata": {},
   "source": [
    "Since not all features of XGBoost are available through the scikit-learn estimator interface, you might want to get the native booster object back out of the sklearn wrapper."
   ]
  },
  {
   "cell_type": "code",
   "execution_count": 16,
   "metadata": {},
   "outputs": [],
   "source": [
    "m = reg.get_booster()"
   ]
  },
  {
   "cell_type": "markdown",
   "metadata": {},
   "source": [
    "### Evaluate the model and check for overfitting\n",
    "\n",
    "We get the model evaluation metrics on the training and validation sets printed to stdout when we use the `evals` argument to the training API. \n",
    "Typically I just look at those printed metrics, but let's double check by hand."
   ]
  },
  {
   "cell_type": "code",
   "execution_count": 17,
   "metadata": {},
   "outputs": [
    {
     "data": {
      "text/plain": [
       "0.25855368"
      ]
     },
     "execution_count": 17,
     "metadata": {},
     "output_type": "execute_result"
    }
   ],
   "source": [
    "def root_mean_squared_error(y_true, y_pred):\n",
    "    return np.sqrt(np.mean((y_true - y_pred)**2))\n",
    "\n",
    "root_mean_squared_error(dvalid.get_label(), m.predict(dvalid))"
   ]
  },
  {
   "cell_type": "markdown",
   "metadata": {},
   "source": [
    "So, how good is that RMSLE of 0.259?\n",
    "Well, checking the \n",
    "[Kagle leaderboard](https://www.kaggle.com/competitions/bluebook-for-bulldozers/leaderboard) \n",
    "for this competition, we would have come in 53rd out of 474, which is in the top 12% of submissions.\n",
    "That's not bad for 10 minutes of work doing the bare minimum necessary to transform the raw data into a format consumable by XGBoost and then training a model using default hyperparameter values.\n",
    "\n",
    "> Note that we're using a different validation set from that used for the final leaderboard (which is long closed), but our score is likely still a decent approximation for how we would have done in the competition."
   ]
  },
  {
   "cell_type": "markdown",
   "metadata": {},
   "source": [
    "It can be helpful to take a look at objective curves for training and validation data to get a sense for the extent of overfitting.\n",
    "A huge difference between training and validation performance indicates overfitting.\n",
    "In the below curve, there is very little overfitting, indicating we can be aggressive with hyperparameters that increase model flexibility.\n",
    "More on that soon."
   ]
  },
  {
   "cell_type": "code",
   "execution_count": 18,
   "metadata": {},
   "outputs": [
    {
     "data": {
      "image/png": "[encoded data removed]",
      "text/plain": [
       "<Figure size 640x480 with 1 Axes>"
      ]
     },
     "metadata": {},
     "output_type": "display_data"
    }
   ],
   "source": [
    "#| fig-alt: line plot showing objective function versus training iteration for training and validation sets\n",
    "pd.DataFrame({\n",
    "    'train': evals_result['train']['rmse'],\n",
    "    'valid': evals_result['valid']['rmse']\n",
    "}).plot(); plt.xlabel('boosting round'); plt.ylabel('objective');"
   ]
  },
  {
   "cell_type": "markdown",
   "metadata": {},
   "source": [
    "### Check feature importance\n",
    "\n",
    "It's helpful to get an idea of how much the model is using each feature.\n",
    "In following iterations we might want to try dropping low-signal features or examining the important ones more closely for feature engineering ideas.\n",
    "The gigantic caveat to keep in mind here is that there are different measures of feature importance, and each one will give different importances.\n",
    "XGBoost provides three importance measures; I tend to prefer looking at the weight measure because its rankings usually seem most intuitive."
   ]
  },
  {
   "cell_type": "code",
   "execution_count": 19,
   "metadata": {},
   "outputs": [
    {
     "data": {
      "image/png": "[encoded data removed]",
      "text/plain": [
       "<Figure size 500x1000 with 1 Axes>"
      ]
     },
     "metadata": {},
     "output_type": "display_data"
    }
   ],
   "source": [
    "#| fig-alt: feature importance plot showing a few high importance features and many low importance ones\n",
    "fig, ax = plt.subplots(figsize=(5,10))\n",
    "feature_importances = pd.Series(m.get_score(importance_type='weight')).sort_values(ascending=False)\n",
    "feature_importances.plot.barh(ax=ax)\n",
    "plt.title('Feature Importance');"
   ]
  },
  {
   "cell_type": "markdown",
   "metadata": {},
   "source": [
    "## Improve performance using a model iteration loop\n",
    "\n",
    "At this point we have a half-decent prototype model. Now we enter the model iteration loop in which we adjust features and model parameters to find configurations that have better and better performance.  \n",
    "\n",
    "Let's start by putting the feature and target specification, the training/validation split, the model training, and the evaluation all together in one code block that we can copy paste for easy model iteration.\n",
    "\n",
    "> Note that for this process to be effective, model training needs to take less than 10 seconds. Otherwise you'll be sitting around waiting way too long.\n",
    "If training takes too long, try training on a sample of the training data, or try reducing the number of boosting rounds."
   ]
  },
  {
   "cell_type": "code",
   "execution_count": 20,
   "metadata": {},
   "outputs": [
    {
     "name": "stdout",
     "output_type": "stream",
     "text": [
      "[0]\ttrain-rmse:6.74422\tvalid-rmse:6.79733\n",
      "[10]\ttrain-rmse:0.34798\tvalid-rmse:0.37158\n",
      "[20]\ttrain-rmse:0.26289\tvalid-rmse:0.28239\n",
      "[30]\ttrain-rmse:0.25148\tvalid-rmse:0.27028\n",
      "[40]\ttrain-rmse:0.24375\tvalid-rmse:0.26420\n",
      "[49]\ttrain-rmse:0.23738\tvalid-rmse:0.25855\n"
     ]
    }
   ],
   "source": [
    "features = [\n",
    "    'SalesID',\n",
    "    'MachineID',\n",
    "    'ModelID',\n",
    "    'datasource',\n",
    "    'auctioneerID',\n",
    "    'YearMade',\n",
    "    'MachineHoursCurrentMeter',\n",
    "    'UsageBand',\n",
    "    'fiModelDesc',\n",
    "    'fiBaseModel',\n",
    "    'fiSecondaryDesc',\n",
    "    'fiModelSeries',\n",
    "    'fiModelDescriptor',\n",
    "    'ProductSize',\n",
    "    'fiProductClassDesc',\n",
    "    'state',\n",
    "    'ProductGroup',\n",
    "    'ProductGroupDesc',\n",
    "    'Drive_System',\n",
    "    'Enclosure',\n",
    "    'Forks',\n",
    "    'Pad_Type',\n",
    "    'Ride_Control',\n",
    "    'Stick',\n",
    "    'Transmission',\n",
    "    'Turbocharged',\n",
    "    'Blade_Extension',\n",
    "    'Blade_Width',\n",
    "    'Enclosure_Type',\n",
    "    'Engine_Horsepower',\n",
    "    'Hydraulics',\n",
    "    'Pushblock',\n",
    "    'Ripper',\n",
    "    'Scarifier',\n",
    "    'Tip_Control',\n",
    "    'Tire_Size',\n",
    "    'Coupler',\n",
    "    'Coupler_System',\n",
    "    'Grouser_Tracks',\n",
    "    'Hydraulics_Flow',\n",
    "    'Track_Type',\n",
    "    'Undercarriage_Pad_Width',\n",
    "    'Stick_Length',\n",
    "    'Thumb',\n",
    "    'Pattern_Changer',\n",
    "    'Grouser_Type',\n",
    "    'Backhoe_Mounting',\n",
    "    'Blade_Type',\n",
    "    'Travel_Controls',\n",
    "    'Differential_Type',\n",
    "    'Steering_Controls',\n",
    "    'saledate_year',\n",
    "    'saledate_month',\n",
    "    'saledate_day',\n",
    "    'saledate_quarter',\n",
    "    'saledate_day_of_year',\n",
    "    'saledate_day_of_week',\n",
    "    'saledate_days_since_epoch',\n",
    "]\n",
    "\n",
    "target = 'logSalePrice'\n",
    "\n",
    "train_df, valid_df = train_test_split_temporal(df, 'saledate', 12000)\n",
    "dtrain = xgb.DMatrix(data=train_df[features], label=train_df[target], enable_categorical=True)\n",
    "dvalid = xgb.DMatrix(data=valid_df[features], label=valid_df[target], enable_categorical=True)\n",
    "\n",
    "params = {\n",
    "    'learning_rate': 0.3,\n",
    "    'max_depth': 6,\n",
    "    'min_child_weight': 1,\n",
    "    'subsample': 1,\n",
    "    'colsample_bynode': 1,\n",
    "    'objective': 'reg:squarederror',\n",
    "}\n",
    "num_boost_round = 50\n",
    "\n",
    "m = xgb.train(params=params, dtrain=dtrain, num_boost_round=num_boost_round,\n",
    "              evals=[(dtrain, 'train'), (dvalid, 'valid')],verbose_eval=10)"
   ]
  },
  {
   "cell_type": "markdown",
   "metadata": {},
   "source": [
    "### Feature selection\n",
    "\n",
    "#### Drop low-importance features\n",
    "\n",
    "Let's try training a model on only the top k most important features.\n",
    "You can try different values of k for the rankings created from each of the three importance measures.\n",
    "You can play with how many to keep, looking for the optimal number manually.\n"
   ]
  },
  {
   "cell_type": "code",
   "execution_count": 21,
   "metadata": {},
   "outputs": [],
   "source": [
    "feature_importances_weight = pd.Series(m.get_score(importance_type='weight')).sort_values(ascending=False)\n",
    "feature_importances_cover = pd.Series(m.get_score(importance_type='cover')).sort_values(ascending=False)\n",
    "feature_importances_gain = pd.Series(m.get_score(importance_type='gain')).sort_values(ascending=False)"
   ]
  },
  {
   "cell_type": "code",
   "execution_count": 22,
   "metadata": {},
   "outputs": [
    {
     "name": "stdout",
     "output_type": "stream",
     "text": [
      "[0]\ttrain-rmse:6.74422\tvalid-rmse:6.79733\n",
      "[10]\ttrain-rmse:0.34798\tvalid-rmse:0.37150\n",
      "[20]\ttrain-rmse:0.26182\tvalid-rmse:0.27986\n",
      "[30]\ttrain-rmse:0.24974\tvalid-rmse:0.26896\n",
      "[40]\ttrain-rmse:0.24282\tvalid-rmse:0.26043\n",
      "[49]\ttrain-rmse:0.23768\tvalid-rmse:0.25664\n"
     ]
    }
   ],
   "source": [
    "# features = list(feature_importances_weight[:30].index)\n",
    "# features = list(feature_importances_cover[:35].index)\n",
    "features = list(feature_importances_gain[:30].index)\n",
    "\n",
    "dtrain = xgb.DMatrix(data=train_df[features], label=train_df[target], enable_categorical=True)\n",
    "dvalid = xgb.DMatrix(data=valid_df[features], label=valid_df[target], enable_categorical=True)\n",
    "\n",
    "params = {\n",
    "    'learning_rate': 0.3,\n",
    "    'max_depth': 6,\n",
    "    'min_child_weight': 1,\n",
    "    'subsample': 1,\n",
    "    'colsample_bynode': 1,\n",
    "    'objective': 'reg:squarederror',\n",
    "}\n",
    "num_boost_round = 50\n",
    "\n",
    "m = xgb.train(params=params, dtrain=dtrain, num_boost_round=num_boost_round,\n",
    "              evals=[(dtrain, 'train'), (dvalid, 'valid')], verbose_eval=10)"
   ]
  },
  {
   "cell_type": "markdown",
   "metadata": {},
   "source": [
    "Looks like keeping the top 30 from the gain importance type gives a slight performance improvement."
   ]
  },
  {
   "cell_type": "markdown",
   "metadata": {},
   "source": [
    "#### Drop one feature at a time\n",
    "\n",
    "Next  try dropping each feature out of the model one-at-a-time to see if there are any more features that you can drop.\n",
    "For each feature, drop it from the feature set, then train a new model, then record the evaluation score.\n",
    "At the end,  sort the scores to see which features are the best candidates for removal."
   ]
  },
  {
   "cell_type": "code",
   "execution_count": 23,
   "metadata": {},
   "outputs": [
    {
     "data": {
      "text/html": [
       "<div>\n",
       "<style scoped>\n",
       "    .dataframe tbody tr th:only-of-type {\n",
       "        vertical-align: middle;\n",
       "    }\n",
       "\n",
       "    .dataframe tbody tr th {\n",
       "        vertical-align: top;\n",
       "    }\n",
       "\n",
       "    .dataframe thead th {\n",
       "        text-align: right;\n",
       "    }\n",
       "</style>\n",
       "<table border=\"1\" class=\"dataframe\">\n",
       "  <thead>\n",
       "    <tr style=\"text-align: right;\">\n",
       "      <th></th>\n",
       "      <th>feature</th>\n",
       "      <th>score</th>\n",
       "    </tr>\n",
       "  </thead>\n",
       "  <tbody>\n",
       "    <tr>\n",
       "      <th>18</th>\n",
       "      <td>SalesID</td>\n",
       "      <td>0.252617</td>\n",
       "    </tr>\n",
       "    <tr>\n",
       "      <th>5</th>\n",
       "      <td>fiBaseModel</td>\n",
       "      <td>0.253710</td>\n",
       "    </tr>\n",
       "    <tr>\n",
       "      <th>27</th>\n",
       "      <td>Undercarriage_Pad_Width</td>\n",
       "      <td>0.254032</td>\n",
       "    </tr>\n",
       "    <tr>\n",
       "      <th>17</th>\n",
       "      <td>Hydraulics</td>\n",
       "      <td>0.254114</td>\n",
       "    </tr>\n",
       "    <tr>\n",
       "      <th>20</th>\n",
       "      <td>ModelID</td>\n",
       "      <td>0.254169</td>\n",
       "    </tr>\n",
       "    <tr>\n",
       "      <th>4</th>\n",
       "      <td>Ride_Control</td>\n",
       "      <td>0.254278</td>\n",
       "    </tr>\n",
       "    <tr>\n",
       "      <th>16</th>\n",
       "      <td>MachineID</td>\n",
       "      <td>0.254413</td>\n",
       "    </tr>\n",
       "    <tr>\n",
       "      <th>19</th>\n",
       "      <td>Track_Type</td>\n",
       "      <td>0.254825</td>\n",
       "    </tr>\n",
       "    <tr>\n",
       "      <th>6</th>\n",
       "      <td>Enclosure</td>\n",
       "      <td>0.254958</td>\n",
       "    </tr>\n",
       "    <tr>\n",
       "      <th>28</th>\n",
       "      <td>Stick</td>\n",
       "      <td>0.255164</td>\n",
       "    </tr>\n",
       "    <tr>\n",
       "      <th>1</th>\n",
       "      <td>Tire_Size</td>\n",
       "      <td>0.255365</td>\n",
       "    </tr>\n",
       "    <tr>\n",
       "      <th>10</th>\n",
       "      <td>ProductGroup</td>\n",
       "      <td>0.255404</td>\n",
       "    </tr>\n",
       "    <tr>\n",
       "      <th>22</th>\n",
       "      <td>Travel_Controls</td>\n",
       "      <td>0.255895</td>\n",
       "    </tr>\n",
       "    <tr>\n",
       "      <th>29</th>\n",
       "      <td>Thumb</td>\n",
       "      <td>0.256300</td>\n",
       "    </tr>\n",
       "    <tr>\n",
       "      <th>23</th>\n",
       "      <td>Transmission</td>\n",
       "      <td>0.256380</td>\n",
       "    </tr>\n",
       "    <tr>\n",
       "      <th>26</th>\n",
       "      <td>Grouser_Tracks</td>\n",
       "      <td>0.256395</td>\n",
       "    </tr>\n",
       "    <tr>\n",
       "      <th>11</th>\n",
       "      <td>Drive_System</td>\n",
       "      <td>0.256652</td>\n",
       "    </tr>\n",
       "    <tr>\n",
       "      <th>24</th>\n",
       "      <td>Blade_Extension</td>\n",
       "      <td>0.256698</td>\n",
       "    </tr>\n",
       "    <tr>\n",
       "      <th>7</th>\n",
       "      <td>Pad_Type</td>\n",
       "      <td>0.256952</td>\n",
       "    </tr>\n",
       "    <tr>\n",
       "      <th>25</th>\n",
       "      <td>fiModelSeries</td>\n",
       "      <td>0.257073</td>\n",
       "    </tr>\n",
       "    <tr>\n",
       "      <th>2</th>\n",
       "      <td>Scarifier</td>\n",
       "      <td>0.257590</td>\n",
       "    </tr>\n",
       "    <tr>\n",
       "      <th>12</th>\n",
       "      <td>Ripper</td>\n",
       "      <td>0.257848</td>\n",
       "    </tr>\n",
       "    <tr>\n",
       "      <th>0</th>\n",
       "      <td>Coupler_System</td>\n",
       "      <td>0.258074</td>\n",
       "    </tr>\n",
       "    <tr>\n",
       "      <th>21</th>\n",
       "      <td>fiModelDesc</td>\n",
       "      <td>0.258712</td>\n",
       "    </tr>\n",
       "    <tr>\n",
       "      <th>13</th>\n",
       "      <td>saledate_days_since_epoch</td>\n",
       "      <td>0.259856</td>\n",
       "    </tr>\n",
       "    <tr>\n",
       "      <th>14</th>\n",
       "      <td>fiModelDescriptor</td>\n",
       "      <td>0.260439</td>\n",
       "    </tr>\n",
       "    <tr>\n",
       "      <th>9</th>\n",
       "      <td>fiSecondaryDesc</td>\n",
       "      <td>0.260782</td>\n",
       "    </tr>\n",
       "    <tr>\n",
       "      <th>15</th>\n",
       "      <td>fiProductClassDesc</td>\n",
       "      <td>0.263790</td>\n",
       "    </tr>\n",
       "    <tr>\n",
       "      <th>3</th>\n",
       "      <td>ProductSize</td>\n",
       "      <td>0.268068</td>\n",
       "    </tr>\n",
       "    <tr>\n",
       "      <th>8</th>\n",
       "      <td>YearMade</td>\n",
       "      <td>0.313105</td>\n",
       "    </tr>\n",
       "  </tbody>\n",
       "</table>\n",
       "</div>"
      ],
      "text/plain": [
       "                      feature     score\n",
       "18                    SalesID  0.252617\n",
       "5                 fiBaseModel  0.253710\n",
       "27    Undercarriage_Pad_Width  0.254032\n",
       "17                 Hydraulics  0.254114\n",
       "20                    ModelID  0.254169\n",
       "4                Ride_Control  0.254278\n",
       "16                  MachineID  0.254413\n",
       "19                 Track_Type  0.254825\n",
       "6                   Enclosure  0.254958\n",
       "28                      Stick  0.255164\n",
       "1                   Tire_Size  0.255365\n",
       "10               ProductGroup  0.255404\n",
       "22            Travel_Controls  0.255895\n",
       "29                      Thumb  0.256300\n",
       "23               Transmission  0.256380\n",
       "26             Grouser_Tracks  0.256395\n",
       "11               Drive_System  0.256652\n",
       "24            Blade_Extension  0.256698\n",
       "7                    Pad_Type  0.256952\n",
       "25              fiModelSeries  0.257073\n",
       "2                   Scarifier  0.257590\n",
       "12                     Ripper  0.257848\n",
       "0              Coupler_System  0.258074\n",
       "21                fiModelDesc  0.258712\n",
       "13  saledate_days_since_epoch  0.259856\n",
       "14          fiModelDescriptor  0.260439\n",
       "9             fiSecondaryDesc  0.260782\n",
       "15         fiProductClassDesc  0.263790\n",
       "3                 ProductSize  0.268068\n",
       "8                    YearMade  0.313105"
      ]
     },
     "execution_count": 23,
     "metadata": {},
     "output_type": "execute_result"
    }
   ],
   "source": [
    "features = [\n",
    "    'Coupler_System',\n",
    "     'Tire_Size',\n",
    "     'Scarifier',\n",
    "     'ProductSize',\n",
    "     'Ride_Control',\n",
    "     'fiBaseModel',\n",
    "     'Enclosure',\n",
    "     'Pad_Type',\n",
    "     'YearMade',\n",
    "     'fiSecondaryDesc',\n",
    "     'ProductGroup',\n",
    "     'Drive_System',\n",
    "     'Ripper',\n",
    "     'saledate_days_since_epoch',\n",
    "     'fiModelDescriptor',\n",
    "     'fiProductClassDesc',\n",
    "     'MachineID',\n",
    "     'Hydraulics',\n",
    "     'SalesID',\n",
    "     'Track_Type',\n",
    "     'ModelID',\n",
    "     'fiModelDesc',\n",
    "     'Travel_Controls',\n",
    "     'Transmission',\n",
    "     'Blade_Extension',\n",
    "     'fiModelSeries',\n",
    "     'Grouser_Tracks',\n",
    "     'Undercarriage_Pad_Width',\n",
    "     'Stick',\n",
    "     'Thumb'\n",
    "]\n",
    "\n",
    "# drop each feature one-at-a-time\n",
    "scores = []\n",
    "for i, feature in enumerate(features):\n",
    "    drop_one_features = features[:i] + features[i+1:]\n",
    "\n",
    "    dtrain = xgb.DMatrix(data=train_df[drop_one_features], label=train_df[target], enable_categorical=True)\n",
    "    dvalid = xgb.DMatrix(data=valid_df[drop_one_features], label=valid_df[target], enable_categorical=True)\n",
    "\n",
    "    params = {\n",
    "        'learning_rate': 0.3,\n",
    "        'max_depth': 6,\n",
    "        'min_child_weight': 1,\n",
    "        'subsample': 1,\n",
    "        'colsample_bynode': 1,\n",
    "        'objective': 'reg:squarederror',\n",
    "    }\n",
    "    num_boost_round = 50\n",
    "\n",
    "    m = xgb.train(params=params, dtrain=dtrain, num_boost_round=num_boost_round,\n",
    "                evals=[(dtrain, 'train'), (dvalid, 'valid')],\n",
    "                verbose_eval=False)\n",
    "    score = root_mean_squared_error(dvalid.get_label(), m.predict(dvalid))\n",
    "    scores.append(score)\n",
    "\n",
    "results_df = pd.DataFrame({\n",
    "    'feature': features,\n",
    "    'score': scores\n",
    "})\n",
    "results_df.sort_values(by='score')"
   ]
  },
  {
   "cell_type": "markdown",
   "metadata": {},
   "source": [
    "Next try removing the feature with the best removal score.\n",
    "Then with that feature still removed, also try removing the feature with the next best removal score and so on.\n",
    "Repeat this process until the model evaluation metric is no longer improving.\n",
    "I think this could be considered a faster version of backward stepwise feature selection.\n"
   ]
  },
  {
   "cell_type": "code",
   "execution_count": 24,
   "metadata": {},
   "outputs": [
    {
     "name": "stdout",
     "output_type": "stream",
     "text": [
      "[0]\ttrain-rmse:6.74422\tvalid-rmse:6.79145\n",
      "[10]\ttrain-rmse:0.34882\tvalid-rmse:0.37201\n",
      "[20]\ttrain-rmse:0.26050\tvalid-rmse:0.27386\n",
      "[30]\ttrain-rmse:0.24844\tvalid-rmse:0.26205\n",
      "[40]\ttrain-rmse:0.24042\tvalid-rmse:0.25426\n",
      "[49]\ttrain-rmse:0.23549\tvalid-rmse:0.25004\n"
     ]
    }
   ],
   "source": [
    "features = [\n",
    "    'Coupler_System',\n",
    "     'Tire_Size',\n",
    "     'Scarifier',\n",
    "     'ProductSize',\n",
    "     'Ride_Control',\n",
    "#      'fiBaseModel',\n",
    "     'Enclosure',\n",
    "     'Pad_Type',\n",
    "     'YearMade',\n",
    "     'fiSecondaryDesc',\n",
    "     'ProductGroup',\n",
    "     'Drive_System',\n",
    "     'Ripper',\n",
    "     'saledate_days_since_epoch',\n",
    "     'fiModelDescriptor',\n",
    "     'fiProductClassDesc',\n",
    "     'MachineID',\n",
    "#      'Hydraulics',\n",
    "#      'SalesID',\n",
    "     'Track_Type',\n",
    "     'ModelID',\n",
    "     'fiModelDesc',\n",
    "     'Travel_Controls',\n",
    "     'Transmission',\n",
    "     'Blade_Extension',\n",
    "     'fiModelSeries',\n",
    "     'Grouser_Tracks',\n",
    "#      'Undercarriage_Pad_Width',\n",
    "     'Stick',\n",
    "     'Thumb'\n",
    "]\n",
    "\n",
    "dtrain = xgb.DMatrix(data=train_df[features], label=train_df[target], enable_categorical=True)\n",
    "dvalid = xgb.DMatrix(data=valid_df[features], label=valid_df[target], enable_categorical=True)\n",
    "\n",
    "params = {\n",
    "    'learning_rate': 0.3,\n",
    "    'max_depth': 6,\n",
    "    'min_child_weight': 1,\n",
    "    'subsample': 1,\n",
    "    'colsample_bynode': 1,\n",
    "    'objective': 'reg:squarederror',\n",
    "}\n",
    "num_boost_round = 50\n",
    "\n",
    "m = xgb.train(params=params, dtrain=dtrain, num_boost_round=num_boost_round,\n",
    "              evals=[(dtrain, 'train'), (dvalid, 'valid')], verbose_eval=10)"
   ]
  },
  {
   "cell_type": "markdown",
   "metadata": {},
   "source": [
    "So here I was able to remove four more features before the score started getting worse.\n",
    "With our reduced feature set, we're now ranking 39th on that Kagle leaderboard.\n",
    "Let's see how far we can get with some hyperparameter tuning."
   ]
  },
  {
   "cell_type": "markdown",
   "metadata": {},
   "source": [
    "### Tune the XGBoost hyperparameters\n",
    "\n",
    "This is a topic which deserves its own full-length post, but just for fun, here I'll do a quick and dirty hand tuning without a ton of explanation.\n",
    "\n",
    "Broadly speaking, my process is to increase model expressiveness by increasing the maximum tree depth untill it looks like I'm overfitting.\n",
    "At that point, I start pushing tree pruning parameters like min child weight and regularization parameters like lambda to counteract the overfitting.\n",
    "That process lead me to the following parameters."
   ]
  },
  {
   "cell_type": "code",
   "execution_count": 25,
   "metadata": {},
   "outputs": [
    {
     "name": "stdout",
     "output_type": "stream",
     "text": [
      "[0]\ttrain-rmse:6.74473\tvalid-rmse:6.80196\n",
      "[10]\ttrain-rmse:0.31833\tvalid-rmse:0.34151\n",
      "[20]\ttrain-rmse:0.22651\tvalid-rmse:0.24885\n",
      "[30]\ttrain-rmse:0.21501\tvalid-rmse:0.23904\n",
      "[40]\ttrain-rmse:0.20897\tvalid-rmse:0.23645\n",
      "[49]\ttrain-rmse:0.20418\tvalid-rmse:0.23412\n"
     ]
    }
   ],
   "source": [
    "params = {\n",
    "    'learning_rate': 0.3,\n",
    "    'max_depth': 10,\n",
    "    'min_child_weight': 14,\n",
    "    'lambda': 5,\n",
    "    'subsample': 1,\n",
    "    'colsample_bynode': 1,\n",
    "    'objective': 'reg:squarederror',}\n",
    "num_boost_round = 50\n",
    "\n",
    "m = xgb.train(params=params, dtrain=dtrain, num_boost_round=num_boost_round,\n",
    "              evals=[(dtrain, 'train'), (dvalid, 'valid')], verbose_eval=10)"
   ]
  },
  {
   "cell_type": "markdown",
   "metadata": {},
   "source": [
    "That gets us up to 12th place.\n",
    "Next I start reducing the learning rate and increasing the boosting rounds in proportion to one another."
   ]
  },
  {
   "cell_type": "code",
   "execution_count": 26,
   "metadata": {},
   "outputs": [
    {
     "name": "stdout",
     "output_type": "stream",
     "text": [
      "[0]\ttrain-rmse:9.04930\tvalid-rmse:9.12743\n",
      "[10]\ttrain-rmse:4.88505\tvalid-rmse:4.93769\n",
      "[20]\ttrain-rmse:2.64630\tvalid-rmse:2.68501\n",
      "[30]\ttrain-rmse:1.44703\tvalid-rmse:1.47923\n",
      "[40]\ttrain-rmse:0.81123\tvalid-rmse:0.84079\n",
      "[50]\ttrain-rmse:0.48441\tvalid-rmse:0.51272\n",
      "[60]\ttrain-rmse:0.32887\tvalid-rmse:0.35434\n",
      "[70]\ttrain-rmse:0.26276\tvalid-rmse:0.28630\n",
      "[80]\ttrain-rmse:0.23720\tvalid-rmse:0.26026\n",
      "[90]\ttrain-rmse:0.22658\tvalid-rmse:0.24932\n",
      "[100]\ttrain-rmse:0.22119\tvalid-rmse:0.24441\n",
      "[110]\ttrain-rmse:0.21747\tvalid-rmse:0.24114\n",
      "[120]\ttrain-rmse:0.21479\tvalid-rmse:0.23923\n",
      "[130]\ttrain-rmse:0.21250\tvalid-rmse:0.23768\n",
      "[140]\ttrain-rmse:0.21099\tvalid-rmse:0.23618\n",
      "[150]\ttrain-rmse:0.20928\tvalid-rmse:0.23524\n",
      "[160]\ttrain-rmse:0.20767\tvalid-rmse:0.23445\n",
      "[170]\ttrain-rmse:0.20658\tvalid-rmse:0.23375\n",
      "[180]\ttrain-rmse:0.20558\tvalid-rmse:0.23307\n",
      "[190]\ttrain-rmse:0.20431\tvalid-rmse:0.23252\n",
      "[200]\ttrain-rmse:0.20316\tvalid-rmse:0.23181\n",
      "[210]\ttrain-rmse:0.20226\tvalid-rmse:0.23145\n",
      "[220]\ttrain-rmse:0.20133\tvalid-rmse:0.23087\n",
      "[230]\ttrain-rmse:0.20045\tvalid-rmse:0.23048\n",
      "[240]\ttrain-rmse:0.19976\tvalid-rmse:0.23023\n",
      "[249]\ttrain-rmse:0.19902\tvalid-rmse:0.23009\n"
     ]
    }
   ],
   "source": [
    "params = {\n",
    "    'learning_rate': 0.3/5,\n",
    "    'max_depth': 10,\n",
    "    'min_child_weight': 14,\n",
    "    'lambda': 5,\n",
    "    'subsample': 1,\n",
    "    'colsample_bynode': 1,\n",
    "    'objective': 'reg:squarederror',}\n",
    "num_boost_round = 50*5\n",
    "\n",
    "m = xgb.train(params=params, dtrain=dtrain, num_boost_round=num_boost_round,\n",
    "              evals=[(dtrain, 'train'), (dvalid, 'valid')], verbose_eval=10)"
   ]
  },
  {
   "cell_type": "markdown",
   "metadata": {},
   "source": [
    "Decreasing the learning rate and increasing the boosting rounds got us up to a 2nd place score.\n",
    "Notice that the score is still decreasing on the validation set.\n",
    "We can actually continue boosting on this model by passing it to the `xgb_model` argument in the `train` function.\n",
    "We want to go very very slowly here to avoid overshooting the minimum of the objective function.\n",
    "To do that I ramp up the lambda regularization parameter and boost a few more rounds from where we left off."
   ]
  },
  {
   "cell_type": "code",
   "execution_count": 27,
   "metadata": {},
   "outputs": [
    {
     "name": "stdout",
     "output_type": "stream",
     "text": [
      "[0]\ttrain-rmse:0.19900\tvalid-rmse:0.23007\n",
      "[10]\ttrain-rmse:0.19862\tvalid-rmse:0.22990\n",
      "[20]\ttrain-rmse:0.19831\tvalid-rmse:0.22975\n",
      "[30]\ttrain-rmse:0.19796\tvalid-rmse:0.22964\n",
      "[40]\ttrain-rmse:0.19768\tvalid-rmse:0.22955\n",
      "[50]\ttrain-rmse:0.19739\tvalid-rmse:0.22940\n",
      "[60]\ttrain-rmse:0.19714\tvalid-rmse:0.22935\n",
      "[70]\ttrain-rmse:0.19689\tvalid-rmse:0.22927\n",
      "[80]\ttrain-rmse:0.19664\tvalid-rmse:0.22915\n",
      "[90]\ttrain-rmse:0.19646\tvalid-rmse:0.22915\n",
      "[100]\ttrain-rmse:0.19620\tvalid-rmse:0.22910\n",
      "[110]\ttrain-rmse:0.19604\tvalid-rmse:0.22907\n",
      "[120]\ttrain-rmse:0.19583\tvalid-rmse:0.22901\n",
      "[130]\ttrain-rmse:0.19562\tvalid-rmse:0.22899\n",
      "[140]\ttrain-rmse:0.19546\tvalid-rmse:0.22898\n",
      "[149]\ttrain-rmse:0.19520\tvalid-rmse:0.22886\n"
     ]
    }
   ],
   "source": [
    "# second stage\n",
    "params = {\n",
    "    'learning_rate': 0.3/10,\n",
    "    'max_depth': 10,\n",
    "    'min_child_weight': 14,\n",
    "    'lambda': 60,\n",
    "    'subsample': 1,\n",
    "    'colsample_bynode': 1,\n",
    "    'objective': 'reg:squarederror',}\n",
    "num_boost_round = 50*3\n",
    "\n",
    "m1 = xgb.train(params=params, dtrain=dtrain, num_boost_round=num_boost_round,\n",
    "              evals=[(dtrain, 'train'), (dvalid, 'valid')], verbose_eval=10,\n",
    "              xgb_model=m)"
   ]
  },
  {
   "cell_type": "code",
   "execution_count": 28,
   "metadata": {},
   "outputs": [
    {
     "data": {
      "text/plain": [
       "0.22885828"
      ]
     },
     "execution_count": 28,
     "metadata": {},
     "output_type": "execute_result"
    }
   ],
   "source": [
    "root_mean_squared_error(dvalid.get_label(), m1.predict(dvalid))"
   ]
  },
  {
   "cell_type": "markdown",
   "metadata": {},
   "source": [
    "And that gets us to 1st place on the leaderboard."
   ]
  },
  {
   "cell_type": "markdown",
   "metadata": {},
   "source": [
    "## Wrapping Up\n",
    "\n",
    "There you have it, how to use XGBoost to solve a regression problem in python with world class performance.\n",
    "Remember you can use the XGBoost regression notebook from my [ds-templates repo](https://github.com/mcb00/ds-templates) \n",
    "to make it easy to follow this flow on your own problems.\n",
    "If you found this helpful, or if you have additional ideas about solving regression problems with XGBoost, let me know down in the comments."
   ]
  }
 ],
 "metadata": {
  "kernelspec": {
   "display_name": "Python 3 (ipykernel)",
   "language": "python",
   "name": "python3"
  },
  "language_info": {
   "codemirror_mode": {
    "name": "ipython",
    "version": 3
   },
   "file_extension": ".py",
   "mimetype": "text/x-python",
   "name": "python",
   "nbconvert_exporter": "python",
   "pygments_lexer": "ipython3",
   "version": "3.9.13"
  }
 },
 "nbformat": 4,
 "nbformat_minor": 2
}
