{
 "cells": [
  {
   "cell_type": "raw",
   "metadata": {},
   "source": [
    "---\n",
    "title: Decision Tree from Scratch\n",
    "categories:\n",
    "- python\n",
    "- gradient boosting\n",
    "- from scratch\n",
    "date: '2021-12-13'\n",
    "description: A detailed walkthrough of my from-scratch decision tree implementation\n",
    "  in python.\n",
    "image: thumbnail.png\n",
    "image-alt: binary tree diagram\n",
    "comments:\n",
    "  utterances:\n",
    "    repo: mcb00/blog\n",
    "    issue-term: title\n",
    "---\n",
    "\n"
   ]
  },
  {
   "cell_type": "markdown",
   "metadata": {},
   "source": [
    "![](thumbnail.png \"decision tree\")"
   ]
  },
  {
   "cell_type": "markdown",
   "metadata": {},
   "source": [
    "Yesterday we had a lovely discussion about  the key strengths and weaknesses of decision trees and why tree ensembles are  so great.\n",
    "But today, gentle reader, we abandon our philosophizing and get down to the business of implementing one of these decision trees from scratch.\n",
    "\n",
    "A note before we get started. This is going to be the most involved scratch-build that we've done at Random Realizations so far. It is not the kind of algorithm that I could just sit down and write all at once. We need to start with a basic frame and then add functionality step by step, testing all along the way to make sure things are working properly. Since I'm writing this in a jupyter notebook, I'll try to give you a sense for how I actually put the algorithm together interactively in pieces, eventually landing on a fully-functional final product. \n",
    "\n",
    "Shall we?"
   ]
  },
  {
   "cell_type": "markdown",
   "metadata": {},
   "source": [
    "## Binary Tree  Data Structure\n",
    "\n",
    "A decision tree takes a dataset with features and a target, partitions the feature space into chunks, and assigns a prediction value to each chunk.  Since each partitioning step divides one chunk in two,  and since the partitioning is done recursively, it's natural to use a binary tree data structure to represent a decision tree. \n",
    "\n",
    "The basic idea of the binary tree is that we define a class to represent nodes in the tree. If we want to add children to a given node, we simply assign them as attributes of the parent node. The child nodes we add are themselves instances of the same class, so we can add children to them in the same way.\n",
    "\n",
    "Let's start out with a simple class for our decision tree.\n",
    "It takes a single value called `max_depth` as input, which will dictate how many layers of child nodes should be inserted below the root. This controls the depth of the tree. As long as `max_depth` is positive, the parent will instantiate two new instances of the binary tree node class, passing along `max_depth` decremented by one and attaching the two children to itself as attributes called `left` and `right`. "
   ]
  },
  {
   "cell_type": "code",
   "execution_count": 1,
   "metadata": {},
   "outputs": [],
   "source": [
    "#| include: false\n",
    "%matplotlib inline"
   ]
  },
  {
   "cell_type": "code",
   "execution_count": 2,
   "metadata": {},
   "outputs": [],
   "source": [
    "import math\n",
    "import numpy as np \n",
    "import pandas as pd\n",
    "import matplotlib.pyplot as plt"
   ]
  },
  {
   "cell_type": "code",
   "execution_count": 3,
   "metadata": {},
   "outputs": [],
   "source": [
    "class DecisionTree():\n",
    "\n",
    "        def __init__(self, max_depth):\n",
    "            assert max_depth >= 0, 'max_depth must be nonnegative'\n",
    "            self.max_depth = max_depth\n",
    "            if max_depth > 0:\n",
    "                self.left = DecisionTree(max_depth=max_depth-1)\n",
    "                self.right = DecisionTree(max_depth=max_depth-1)"
   ]
  },
  {
   "cell_type": "markdown",
   "metadata": {},
   "source": [
    "Let's make a new instance of our decision tree class, a tree with depth 2."
   ]
  },
  {
   "cell_type": "code",
   "execution_count": 4,
   "metadata": {},
   "outputs": [],
   "source": [
    "t = DecisionTree(max_depth=2)"
   ]
  },
  {
   "cell_type": "markdown",
   "metadata": {},
   "source": [
    "![Binary tree structure diagram](binary_tree.png \"\")"
   ]
  },
  {
   "cell_type": "markdown",
   "metadata": {},
   "source": [
    "We can access individual nodes and check their value of `max_depth`."
   ]
  },
  {
   "cell_type": "code",
   "execution_count": 5,
   "metadata": {},
   "outputs": [
    {
     "data": {
      "text/plain": [
       "(2, 1, 0)"
      ]
     },
     "execution_count": 5,
     "metadata": {},
     "output_type": "execute_result"
    }
   ],
   "source": [
    "t.max_depth, t.left.max_depth, t.left.right.max_depth"
   ]
  },
  {
   "cell_type": "markdown",
   "metadata": {},
   "source": [
    "Our full decision tree can expand on this idea where each node receives some input, modifies  it, creates two child nodes, and passes the modified input along to them. Specifically, each node in our decision tree will receive a dataset, determine how best to split the dataset into two parts, create two child nodes, and pass one part of the data to the left child and the other part to the right child.\n",
    "\n",
    "All we have to do now is add some additional functionality to our decision tree. First we'll start by capturing all the inputs we need to grow a tree, which include the feature dataframe `X`, the target array `y`, `max_depth` to explicitly limit tree depth, `min_samples_leaf` to specify the minimum number of observations that are allowed in a leaf node, and an optional `idxs` which specifies the indices of data that the node should use. The indices argument is useful for users of our decision tree because it will allow them to implement row subsampling in ensemble methods like random forest. It will also be handy for internal use inside the decision tree when passing data along to child nodes; instead of passing copies of the two data subsets, we'll just pass a reference to the full dataset and pass along a set of indices to identify that node's instance subset. \n",
    "\n",
    "Once we get our input, we'll do a little bit of input validation and store things that we want to keep as object attributes. In case this is a leaf node, we'll go ahead and compute its predicted value; since this is a regression tree, the prediction is just the mean of the target `y`. We'll also go ahead and initialize a score metric which we'll use to help us find the best split later; since lower scores are going to be better, we'll initialize it to positive infinity.\n",
    "Finally, we'll push the logic to add child nodes into a method called `_maybe_insert_child_nodes` that we'll define next. "
   ]
  },
  {
   "cell_type": "markdown",
   "metadata": {},
   "source": [
    ":::{.callout-note}\n",
    "\n",
    "a leading underscore in a method name indicates the method is for internal use and not part of the user-facing API of the class.\n",
    "\n",
    ":::"
   ]
  },
  {
   "cell_type": "code",
   "execution_count": 6,
   "metadata": {},
   "outputs": [],
   "source": [
    "class DecisionTree():\n",
    "\n",
    "    def __init__(self, X, y, min_samples_leaf=5, max_depth=6, idxs=None):\n",
    "        assert max_depth >= 0, 'max_depth must be nonnegative'\n",
    "        assert min_samples_leaf > 0, 'min_samples_leaf must be positive'\n",
    "        self.min_samples_leaf, self.max_depth = min_samples_leaf, max_depth\n",
    "        if isinstance(y, pd.Series): y = y.values\n",
    "        if idxs is None: idxs = np.arange(len(y))\n",
    "        self.X, self.y, self.idxs = X, y, idxs\n",
    "        self.n, self.c = len(idxs), X.shape[1]\n",
    "        self.value = np.mean(y[idxs]) # node's prediction value\n",
    "        self.best_score_so_far = float('inf') # initial loss before split finding\n",
    "        if self.max_depth > 0:\n",
    "            self._maybe_insert_child_nodes()\n",
    "            \n",
    "    def _maybe_insert_child_nodes(self):\n",
    "        pass"
   ]
  },
  {
   "cell_type": "markdown",
   "metadata": {},
   "source": [
    "Now in order to test our class, we'll need some actual data. We can use the same scikit-learn diabetes data from the last post."
   ]
  },
  {
   "cell_type": "code",
   "execution_count": 7,
   "metadata": {},
   "outputs": [],
   "source": [
    "from sklearn.datasets import load_diabetes\n",
    "\n",
    "X, y = load_diabetes(as_frame=True, return_X_y=True)"
   ]
  },
  {
   "cell_type": "code",
   "execution_count": 8,
   "metadata": {},
   "outputs": [],
   "source": [
    "t = DecisionTree(X, y, min_samples_leaf=5, max_depth=5)"
   ]
  },
  {
   "cell_type": "markdown",
   "metadata": {},
   "source": [
    "So far, so good."
   ]
  },
  {
   "cell_type": "markdown",
   "metadata": {},
   "source": [
    "## Inserting Child Nodes\n",
    "\n",
    "Our node inserting function `_maybe_insert_child_nodes` needs to first find the best split; then if a valid split exists, it needs to insert the child nodes. To find the best valid split, we need to loop through the columns and search each one for the best valid split. Again we'll push the logic of finding the best split into a function  that we'll define later.  Next if no split was found, we need to bail by returning before trying to insert the child nodes. To check if this node is a leaf (i.e. it shouldn't have child nodes), we define a property called `is_leaf` which will just check if the best score so far is still infinity, in which case no split was found and the node is a leaf. \n",
    "\n",
    "If a valid split was found, then we need to insert the child nodes. We'll assume that our split finding function assigned attributes called `split_feature_idx` and `threshold` to tell us the split feature's index and the split threshold value. We then use these to compute the indices of the data to be passed to the child nodes; the left child gets instances where the split feature value is less than or equal to the threshold, and the right child node gets instances where the split feature value is greater than the threshold. Then we create two new decision trees, passing the corresponding data indices to each and assigning them to the `left` and `right` attributes of the current node.\n"
   ]
  },
  {
   "cell_type": "code",
   "execution_count": 9,
   "metadata": {},
   "outputs": [],
   "source": [
    "    def _maybe_insert_child_nodes(self):\n",
    "        for j in range(self.c): \n",
    "            self._find_better_split(j)\n",
    "        if self.is_leaf: # do not insert children\n",
    "            return \n",
    "        x = self.X.values[self.idxs,self.split_feature_idx]\n",
    "        left_idx = np.nonzero(x <= self.threshold)[0]\n",
    "        right_idx = np.nonzero(x > self.threshold)[0]\n",
    "        self.left = DecisionTree(self.X, self.y, self.min_samples_leaf, \n",
    "                                  self.max_depth - 1, self.idxs[left_idx])\n",
    "        self.right = DecisionTree(self.X, self.y, self.min_samples_leaf, \n",
    "                                  self.max_depth - 1, self.idxs[right_idx])\n",
    "\n",
    "    def _find_better_split(self, feature_idx):\n",
    "        pass\n",
    "    \n",
    "    @property\n",
    "    def is_leaf(self): return self.best_score_so_far == float('inf')"
   ]
  },
  {
   "cell_type": "markdown",
   "metadata": {},
   "source": [
    "To test these new methods , we can assign them to our `DecisionTree` class and create a new class instance to make sure things are still working."
   ]
  },
  {
   "cell_type": "code",
   "execution_count": 10,
   "metadata": {},
   "outputs": [],
   "source": [
    "DecisionTree._maybe_insert_child_nodes = _maybe_insert_child_nodes\n",
    "DecisionTree._find_better_split = _find_better_split\n",
    "DecisionTree.is_leaf = is_leaf\n",
    "t = DecisionTree(X, y, min_samples_leaf=5, max_depth=6)"
   ]
  },
  {
   "cell_type": "markdown",
   "metadata": {},
   "source": [
    "Yep, we're still looking good."
   ]
  },
  {
   "cell_type": "markdown",
   "metadata": {},
   "source": [
    "## Split Finding \n",
    "\n",
    "Now we need to fill in the functionality of the split finding method.\n",
    "The overall strategy is to consider every possible way to split on the current feature, measuring the quality of each potential split with some scoring mechanism, and keeping track of the best split we've seen so far. We'll come back to the issue of how to try all the possible splits in a moment, but let's start by figuring out how to score a particular potential split.\n",
    "\n",
    "Like other machine learning models, trees are trained by attempting to minimize some loss function that measures how well the model predicts the target data. We'll be training our regression tree to minimize squared error.\n",
    "\n",
    "$$ L = \\sum_{i=1}^n (y_i-\\hat{y}_i)^2$$\n",
    "\n",
    "For a given node, we can replace $\\hat{y}$ with $\\bar{y}$ because each node uses the sample mean of its target instances as its prediction. We can then rewrite the loss for a given node as\n",
    "\n",
    "$$ L = \\sum_{i=1}^n(y_i - \\bar{y})^2 $$\n",
    "$$  = \\sum_{i=1}^n(y_i^2 -2y_i\\bar{y} + \\bar{y}^2)  $$\n",
    "$$  = \\sum_{i=1}^ny_i^2 -2\\bar{y}\\sum_{i=1}^ny_i + n\\bar{y}^2 $$\n",
    "$$  = \\sum_{i=1}^ny_i^2 - \\frac{1}{n} \\left ( \\sum_{i=1}^ny_i \\right )^2 $$\n",
    "\n",
    "We can then evaluate potential splits by comparing the loss after splitting to the loss before splitting, where the split with the greatest loss reduction is best. Let's work out a simple expression for the loss reduction from a given split.\n",
    "\n",
    "Let $I$ be the set of $n$ data instances in the current node, and let $I_L$ and $I_R$ be the instances that fall into the left and right child nodes of a proposed split.\n",
    "Let $L$ be the total loss for all instances in the node, while $L_L$ and $L_R$ are the losses for the left and right child nodes.\n",
    "The total loss contributed by instances in $I$ prior to any split is\n",
    "\n",
    "$$L_{\\text{before split}} = L =  \\sum_{i \\in I} y_i^2 - \\frac{1}{n} \\left ( \\sum_{i \\in I} y_i \\right )^2 $$\n",
    "\n",
    "And the loss after splitting $I$ into $I_L$ and $I_R$ is\n",
    "\n",
    "$$L_{\\text{after split}} = L_L + L_R =  \\sum_{i \\in I_L} y_i^2 - \\frac{1}{n_L} \\left ( \\sum_{i \\in I_L} y_i \\right )^2 + \\sum_{i \\in I_R} y_i^2 - \\frac{1}{n_R} \\left ( \\sum_{i \\in I_R} y_i \\right )^2 $$\n",
    "\n",
    "The reduction in loss from this split is\n",
    "\n",
    "$$ \\Delta L = L_{\\text{after split}} -  L_{\\text{before split}} = (L_L + L_R) - L $$\n",
    "$$  = \\sum_{i \\in I_L} y_i^2 - \\frac{1}{n_L} \\left ( \\sum_{i \\in I_L} y_i \\right )^2 + \\sum_{i \\in I_R} y_i^2 - \\frac{1}{n_R} \\left ( \\sum_{i \\in I_R} y_i \\right )^2 - \\left ( \\sum_{i \\in I} y_i^2 - \\frac{1}{n} \\left ( \\sum_{i \\in I} y_i \\right )^2 \\right ) $$\n",
    "\n",
    "Since $I = I_L \\cup I_R$ the $\\sum y^2$ terms cancel and we can simplify.\n",
    "\n",
    "$$ \\Delta L = - \\frac{1}{n_L} \\left ( \\sum_{i \\in I_L} y_i \\right )^2 \n",
    " - \\frac{1}{n_R} \\left ( \\sum_{i \\in I_R} y_i \\right )^2\n",
    "+ \\frac{1}{n} \\left ( \\sum_{i \\in I} y_i \\right )^2  $$\n",
    "\n",
    "This is a really nice formulation of the split scoring metric from a computational complexity perspective. We can sort the data by the feature values then, starting with the smallest `min_samples_leaf` instances in the left node and the rest in the right node, we check the score. Then to check the next split, we simply move a single target value from the right node into the left node, updating the score by subtracting it from the right node's partial sum and adding it to the left node's partial sum. The third term is constant for all splits, so we only need to compute it once. If any split's score is lower than the best score so far, then we update the best score so far, the split feature, and the threshold value. When we're done we can be sure we found the best possible split. The time bottleneck is the sort, which puts us at an average time complexity of $O(n\\log n)$.\n"
   ]
  },
  {
   "cell_type": "code",
   "execution_count": 11,
   "metadata": {},
   "outputs": [],
   "source": [
    "    def _find_better_split(self, feature_idx):\n",
    "        x = self.X.values[self.idxs,feature_idx]\n",
    "        y = self.y[self.idxs]\n",
    "        sort_idx = np.argsort(x)\n",
    "        sort_y, sort_x = y[sort_idx], x[sort_idx]\n",
    "        sum_y, n = y.sum(), len(y)\n",
    "        sum_y_right, n_right = sum_y, n\n",
    "        sum_y_left, n_left = 0., 0\n",
    "    \n",
    "        for i in range(0, self.n - self.min_samples_leaf):\n",
    "            y_i, x_i, x_i_next = sort_y[i], sort_x[i], sort_x[i + 1]\n",
    "            sum_y_left += y_i; sum_y_right -= y_i\n",
    "            n_left += 1; n_right -= 1\n",
    "            if  n_left < self.min_samples_leaf or x_i == x_i_next:\n",
    "                continue\n",
    "            score = - sum_y_left**2 / n_left - sum_y_right**2 / n_right + sum_y**2 / n\n",
    "            if score < self.best_score_so_far:\n",
    "                self.best_score_so_far = score\n",
    "                self.split_feature_idx = feature_idx\n",
    "                self.threshold = (x_i + x_i_next) / 2"
   ]
  },
  {
   "cell_type": "markdown",
   "metadata": {},
   "source": [
    "Again, we assign the split finding method to our class and instantiate a new tree to make sure things are still working."
   ]
  },
  {
   "cell_type": "code",
   "execution_count": 12,
   "metadata": {},
   "outputs": [
    {
     "data": {
      "text/plain": [
       "('s5', -0.0037611760063045703)"
      ]
     },
     "execution_count": 12,
     "metadata": {},
     "output_type": "execute_result"
    }
   ],
   "source": [
    "DecisionTree._find_better_split = _find_better_split\n",
    "t = DecisionTree(X, y, min_samples_leaf=5, max_depth=6)\n",
    "X.columns[t.split_feature_idx], t.threshold"
   ]
  },
  {
   "cell_type": "markdown",
   "metadata": {},
   "source": [
    "Nice! Looks like the tree started with a split on the `s5` feature."
   ]
  },
  {
   "cell_type": "markdown",
   "metadata": {},
   "source": [
    "## Inspecting the Tree\n",
    "\n",
    "While we're developing something complex like a decision tree class, we need a good way to inspect the object to help with testing and debugging. Let's write a quick string representation  method to make it easier to check what's going on with a particular node.\n"
   ]
  },
  {
   "cell_type": "code",
   "execution_count": 13,
   "metadata": {},
   "outputs": [],
   "source": [
    "    def __repr__(self):\n",
    "        s = f'n: {self.n}'\n",
    "        s += f'; value:{self.value:0.2f}'\n",
    "        if not self.is_leaf:\n",
    "            split_feature_name = self.X.columns[self.split_feature_idx]\n",
    "            s += f'; split: {split_feature_name} <= {self.threshold:0.3f}'\n",
    "        return s"
   ]
  },
  {
   "cell_type": "markdown",
   "metadata": {},
   "source": [
    "We can assign the string representation method to the class and print a few nodes."
   ]
  },
  {
   "cell_type": "code",
   "execution_count": 14,
   "metadata": {},
   "outputs": [
    {
     "name": "stdout",
     "output_type": "stream",
     "text": [
      "n: 442; value:152.13; split: s5 <= -0.004\n",
      "n: 218; value:109.99; split: bmi <= 0.006\n",
      "n: 171; value:96.31\n"
     ]
    }
   ],
   "source": [
    "DecisionTree.__repr__ = __repr__\n",
    "t = DecisionTree(X, y, min_samples_leaf=5, max_depth=2)\n",
    "print(t)\n",
    "print(t.left)\n",
    "print(t.left.left)"
   ]
  },
  {
   "cell_type": "markdown",
   "metadata": {},
   "source": [
    "## Prediction\n",
    "\n",
    "We need a public `predict` method that takes a feature dataframe and returns an array of predictions. We'll need to look up the predicted value for one instance at a time and stitch them together in an array. We can do that by iterating over the feature dataframe rows with a list comprehension that calls a `_predict_row` method to grab the prediction for each row.\n",
    "The row predict method needs to return the current node's predicted value if it's a leaf, or if not, it needs to identify the appropriate child node based on its split and ask it for a prediction. \n"
   ]
  },
  {
   "cell_type": "code",
   "execution_count": 15,
   "metadata": {},
   "outputs": [],
   "source": [
    "    def predict(self, X):\n",
    "        return np.array([self._predict_row(row) for i, row in X.iterrows()])\n",
    "    \n",
    "    def _predict_row(self, row):\n",
    "        if self.is_leaf: \n",
    "            return self.value\n",
    "        child = self.left if row[self.split_feature_idx] <= self.threshold \\\n",
    "                else self.right\n",
    "        return child._predict_row(row)"
   ]
  },
  {
   "cell_type": "markdown",
   "metadata": {},
   "source": [
    "Let's assign the predict methods and make predictions on a few rows."
   ]
  },
  {
   "cell_type": "code",
   "execution_count": 16,
   "metadata": {},
   "outputs": [
    {
     "data": {
      "text/plain": [
       "array([225.87962963,  96.30994152, 225.87962963])"
      ]
     },
     "execution_count": 16,
     "metadata": {},
     "output_type": "execute_result"
    }
   ],
   "source": [
    "DecisionTree.predict = predict\n",
    "DecisionTree._predict_row = _predict_row\n",
    "t.predict(X.iloc[:3, :])"
   ]
  },
  {
   "cell_type": "code",
   "execution_count": null,
   "metadata": {},
   "outputs": [],
   "source": []
  },
  {
   "cell_type": "markdown",
   "metadata": {},
   "source": [
    "## The Complete Decision Tree  Implementation\n",
    "\n",
    "Here's the implementation, all in one place."
   ]
  },
  {
   "cell_type": "code",
   "execution_count": 17,
   "metadata": {},
   "outputs": [],
   "source": [
    "class DecisionTree():\n",
    "\n",
    "    def __init__(self, X, y, min_samples_leaf=5, max_depth=6, idxs=None):\n",
    "        assert max_depth >= 0, 'max_depth must be nonnegative'\n",
    "        assert min_samples_leaf > 0, 'min_samples_leaf must be positive'\n",
    "        self.min_samples_leaf, self.max_depth = min_samples_leaf, max_depth\n",
    "        if isinstance(y, pd.Series): y = y.values\n",
    "        if idxs is None: idxs = np.arange(len(y))\n",
    "        self.X, self.y, self.idxs = X, y, idxs\n",
    "        self.n, self.c = len(idxs), X.shape[1]\n",
    "        self.value = np.mean(y[idxs]) # node's prediction value\n",
    "        self.best_score_so_far = float('inf') # initial loss before split finding\n",
    "        if self.max_depth > 0:\n",
    "            self._maybe_insert_child_nodes()\n",
    "            \n",
    "    def _maybe_insert_child_nodes(self):\n",
    "        for j in range(self.c): \n",
    "            self._find_better_split(j)\n",
    "        if self.is_leaf: # do not insert children\n",
    "            return \n",
    "        x = self.X.values[self.idxs,self.split_feature_idx]\n",
    "        left_idx = np.nonzero(x <= self.threshold)[0]\n",
    "        right_idx = np.nonzero(x > self.threshold)[0]\n",
    "        self.left = DecisionTree(self.X, self.y, self.min_samples_leaf, \n",
    "                                  self.max_depth - 1, self.idxs[left_idx])\n",
    "        self.right = DecisionTree(self.X, self.y, self.min_samples_leaf, \n",
    "                                  self.max_depth - 1, self.idxs[right_idx])\n",
    "    \n",
    "    @property\n",
    "    def is_leaf(self): return self.best_score_so_far == float('inf')\n",
    "    \n",
    "    def _find_better_split(self, feature_idx):\n",
    "        x = self.X.values[self.idxs,feature_idx]\n",
    "        y = self.y[self.idxs]\n",
    "        sort_idx = np.argsort(x)\n",
    "        sort_y, sort_x = y[sort_idx], x[sort_idx]\n",
    "        sum_y, n = y.sum(), len(y)\n",
    "        sum_y_right, n_right = sum_y, n\n",
    "        sum_y_left, n_left = 0., 0\n",
    "    \n",
    "        for i in range(0, self.n - self.min_samples_leaf):\n",
    "            y_i, x_i, x_i_next = sort_y[i], sort_x[i], sort_x[i + 1]\n",
    "            sum_y_left += y_i; sum_y_right -= y_i\n",
    "            n_left += 1; n_right -= 1\n",
    "            if  n_left < self.min_samples_leaf or x_i == x_i_next:\n",
    "                continue\n",
    "            score = - sum_y_left**2 / n_left - sum_y_right**2 / n_right + sum_y**2 / n\n",
    "            if score < self.best_score_so_far:\n",
    "                self.best_score_so_far = score\n",
    "                self.split_feature_idx = feature_idx\n",
    "                self.threshold = (x_i + x_i_next) / 2\n",
    "                \n",
    "    def __repr__(self):\n",
    "        s = f'n: {self.n}'\n",
    "        s += f'; value:{self.value:0.2f}'\n",
    "        if not self.is_leaf:\n",
    "            split_feature_name = self.X.columns[self.split_feature_idx]\n",
    "            s += f'; split: {split_feature_name} <= {self.threshold:0.3f}'\n",
    "        return s\n",
    "    \n",
    "    def predict(self, X):\n",
    "        return np.array([self._predict_row(row) for i, row in X.iterrows()])\n",
    "    \n",
    "    def _predict_row(self, row):\n",
    "        if self.is_leaf: \n",
    "            return self.value\n",
    "        child = self.left if row[self.split_feature_idx] <= self.threshold \\\n",
    "                else self.right\n",
    "        return child._predict_row(row)"
   ]
  },
  {
   "cell_type": "code",
   "execution_count": null,
   "metadata": {},
   "outputs": [],
   "source": []
  },
  {
   "cell_type": "markdown",
   "metadata": {},
   "source": [
    "## From Scratch versus Scikit-Learn\n",
    "As usual, we'll test our homegrown handiwork by comparing it to the existing implementation in scikit-learn. First let's train both models on the [California Housing dataset](https://scikit-learn.org/stable/datasets/real_world.html) which gives us 20k instances and 8 features to predict median house price by district. "
   ]
  },
  {
   "cell_type": "code",
   "execution_count": 18,
   "metadata": {},
   "outputs": [],
   "source": [
    "from sklearn.datasets import fetch_california_housing\n",
    "from sklearn.model_selection import train_test_split\n",
    "\n",
    "X, y = fetch_california_housing(as_frame=True, return_X_y=True)\n",
    "X_train, X_test, y_train, y_test = train_test_split(X, y, test_size=0.3, random_state=43)"
   ]
  },
  {
   "cell_type": "code",
   "execution_count": 19,
   "metadata": {},
   "outputs": [
    {
     "name": "stdout",
     "output_type": "stream",
     "text": [
      "from scratch MSE: 0.3988\n",
      "scikit-learn MSE: 0.3988\n"
     ]
    }
   ],
   "source": [
    "from sklearn.tree import DecisionTreeRegressor\n",
    "from sklearn.metrics import mean_squared_error\n",
    "\n",
    "max_depth = 8\n",
    "min_samples_leaf = 16\n",
    "\n",
    "tree = DecisionTree(X_train, y_train, max_depth=max_depth, min_samples_leaf=min_samples_leaf)\n",
    "pred = tree.predict(X_test)\n",
    "\n",
    "sk_tree = DecisionTreeRegressor(max_depth=max_depth, min_samples_leaf=min_samples_leaf)\n",
    "sk_tree.fit(X_train, y_train)\n",
    "sk_pred = sk_tree.predict(X_test)\n",
    "\n",
    "print(f'from scratch MSE: {mean_squared_error(y_test, pred):0.4f}')\n",
    "print(f'scikit-learn MSE: {mean_squared_error(y_test, sk_pred):0.4f}')"
   ]
  },
  {
   "cell_type": "markdown",
   "metadata": {},
   "source": [
    "We get similar accuracy on a held-out test dataset.\n",
    "\n",
    "Let's benchmark the two implementations on  training time."
   ]
  },
  {
   "cell_type": "code",
   "execution_count": 20,
   "metadata": {},
   "outputs": [
    {
     "name": "stdout",
     "output_type": "stream",
     "text": [
      "CPU times: user 45.3 ms, sys: 555 µs, total: 45.8 ms\n",
      "Wall time: 45.3 ms\n"
     ]
    },
    {
     "data": {
      "text/html": [
       "<style>#sk-container-id-1 {color: black;background-color: white;}#sk-container-id-1 pre{padding: 0;}#sk-container-id-1 div.sk-toggleable {background-color: white;}#sk-container-id-1 label.sk-toggleable__label {cursor: pointer;display: block;width: 100%;margin-bottom: 0;padding: 0.3em;box-sizing: border-box;text-align: center;}#sk-container-id-1 label.sk-toggleable__label-arrow:before {content: \"▸\";float: left;margin-right: 0.25em;color: #696969;}#sk-container-id-1 label.sk-toggleable__label-arrow:hover:before {color: black;}#sk-container-id-1 div.sk-estimator:hover label.sk-toggleable__label-arrow:before {color: black;}#sk-container-id-1 div.sk-toggleable__content {max-height: 0;max-width: 0;overflow: hidden;text-align: left;background-color: #f0f8ff;}#sk-container-id-1 div.sk-toggleable__content pre {margin: 0.2em;color: black;border-radius: 0.25em;background-color: #f0f8ff;}#sk-container-id-1 input.sk-toggleable__control:checked~div.sk-toggleable__content {max-height: 200px;max-width: 100%;overflow: auto;}#sk-container-id-1 input.sk-toggleable__control:checked~label.sk-toggleable__label-arrow:before {content: \"▾\";}#sk-container-id-1 div.sk-estimator input.sk-toggleable__control:checked~label.sk-toggleable__label {background-color: #d4ebff;}#sk-container-id-1 div.sk-label input.sk-toggleable__control:checked~label.sk-toggleable__label {background-color: #d4ebff;}#sk-container-id-1 input.sk-hidden--visually {border: 0;clip: rect(1px 1px 1px 1px);clip: rect(1px, 1px, 1px, 1px);height: 1px;margin: -1px;overflow: hidden;padding: 0;position: absolute;width: 1px;}#sk-container-id-1 div.sk-estimator {font-family: monospace;background-color: #f0f8ff;border: 1px dotted black;border-radius: 0.25em;box-sizing: border-box;margin-bottom: 0.5em;}#sk-container-id-1 div.sk-estimator:hover {background-color: #d4ebff;}#sk-container-id-1 div.sk-parallel-item::after {content: \"\";width: 100%;border-bottom: 1px solid gray;flex-grow: 1;}#sk-container-id-1 div.sk-label:hover label.sk-toggleable__label {background-color: #d4ebff;}#sk-container-id-1 div.sk-serial::before {content: \"\";position: absolute;border-left: 1px solid gray;box-sizing: border-box;top: 0;bottom: 0;left: 50%;z-index: 0;}#sk-container-id-1 div.sk-serial {display: flex;flex-direction: column;align-items: center;background-color: white;padding-right: 0.2em;padding-left: 0.2em;position: relative;}#sk-container-id-1 div.sk-item {position: relative;z-index: 1;}#sk-container-id-1 div.sk-parallel {display: flex;align-items: stretch;justify-content: center;background-color: white;position: relative;}#sk-container-id-1 div.sk-item::before, #sk-container-id-1 div.sk-parallel-item::before {content: \"\";position: absolute;border-left: 1px solid gray;box-sizing: border-box;top: 0;bottom: 0;left: 50%;z-index: -1;}#sk-container-id-1 div.sk-parallel-item {display: flex;flex-direction: column;z-index: 1;position: relative;background-color: white;}#sk-container-id-1 div.sk-parallel-item:first-child::after {align-self: flex-end;width: 50%;}#sk-container-id-1 div.sk-parallel-item:last-child::after {align-self: flex-start;width: 50%;}#sk-container-id-1 div.sk-parallel-item:only-child::after {width: 0;}#sk-container-id-1 div.sk-dashed-wrapped {border: 1px dashed gray;margin: 0 0.4em 0.5em 0.4em;box-sizing: border-box;padding-bottom: 0.4em;background-color: white;}#sk-container-id-1 div.sk-label label {font-family: monospace;font-weight: bold;display: inline-block;line-height: 1.2em;}#sk-container-id-1 div.sk-label-container {text-align: center;}#sk-container-id-1 div.sk-container {/* jupyter's `normalize.less` sets `[hidden] { display: none; }` but bootstrap.min.css set `[hidden] { display: none !important; }` so we also need the `!important` here to be able to override the default hidden behavior on the sphinx rendered scikit-learn.org. See: https://github.com/scikit-learn/scikit-learn/issues/21755 */display: inline-block !important;position: relative;}#sk-container-id-1 div.sk-text-repr-fallback {display: none;}</style><div id=\"sk-container-id-1\" class=\"sk-top-container\"><div class=\"sk-text-repr-fallback\"><pre>DecisionTreeRegressor(max_depth=8, min_samples_leaf=16)</pre><b>In a Jupyter environment, please rerun this cell to show the HTML representation or trust the notebook. <br />On GitHub, the HTML representation is unable to render, please try loading this page with nbviewer.org.</b></div><div class=\"sk-container\" hidden><div class=\"sk-item\"><div class=\"sk-estimator sk-toggleable\"><input class=\"sk-toggleable__control sk-hidden--visually\" id=\"sk-estimator-id-1\" type=\"checkbox\" checked><label for=\"sk-estimator-id-1\" class=\"sk-toggleable__label sk-toggleable__label-arrow\">DecisionTreeRegressor</label><div class=\"sk-toggleable__content\"><pre>DecisionTreeRegressor(max_depth=8, min_samples_leaf=16)</pre></div></div></div></div></div>"
      ],
      "text/plain": [
       "DecisionTreeRegressor(max_depth=8, min_samples_leaf=16)"
      ]
     },
     "execution_count": 20,
     "metadata": {},
     "output_type": "execute_result"
    }
   ],
   "source": [
    "%%time\n",
    "sk_tree = DecisionTreeRegressor(max_depth=max_depth, min_samples_leaf=min_samples_leaf)\n",
    "sk_tree.fit(X_train, y_train);"
   ]
  },
  {
   "cell_type": "code",
   "execution_count": 21,
   "metadata": {},
   "outputs": [
    {
     "name": "stdout",
     "output_type": "stream",
     "text": [
      "CPU times: user 624 ms, sys: 1.65 ms, total: 625 ms\n",
      "Wall time: 625 ms\n"
     ]
    }
   ],
   "source": [
    "%%time\n",
    "tree = DecisionTree(X_train, y_train, max_depth=max_depth, min_samples_leaf=min_samples_leaf)"
   ]
  },
  {
   "cell_type": "markdown",
   "metadata": {},
   "source": [
    "Wow, the scikit-learn implementation absolutely smoked us, training an order of magnitude faster. This is to be expected, since they implement split finding in cython, which generates compiled C code that can run much faster than our native python code. Maybe we can take a look at how to optimize python code with cython here on the blog one of these days."
   ]
  },
  {
   "cell_type": "markdown",
   "metadata": {},
   "source": [
    "## Wrapping Up\n",
    "Holy cow, we just implemented a decision tree using nothing but numpy. I hope you enjoyed the scratch build as much as I did, and I hope you got a little bit better at coding (I certainly did). That was actually way harder than I expected, but looking back at the finished product, it doesn't seem so bad right? I almost thought we were going to get away with not implementing our own decision tree, but it turns out that this will be super helpful for us when it comes time to implement XGBoost from scratch.\n"
   ]
  },
  {
   "cell_type": "markdown",
   "metadata": {},
   "source": [
    "## References\n",
    "\n",
    "This implementation is inspired and partially adapted from Jeremy Howard's live coding of a [Random Forest](https://course18.fast.ai/lessonsml1/lesson7.html) as part of the fastai ML course."
   ]
  },
  {
   "cell_type": "code",
   "execution_count": null,
   "metadata": {},
   "outputs": [],
   "source": []
  }
 ],
 "metadata": {
  "kernelspec": {
   "display_name": "Python 3 (ipykernel)",
   "language": "python",
   "name": "python3"
  },
  "language_info": {
   "codemirror_mode": {
    "name": "ipython",
    "version": 3
   },
   "file_extension": ".py",
   "mimetype": "text/x-python",
   "name": "python",
   "nbconvert_exporter": "python",
   "pygments_lexer": "ipython3",
   "version": "3.9.13"
  }
 },
 "nbformat": 4,
 "nbformat_minor": 2
}
