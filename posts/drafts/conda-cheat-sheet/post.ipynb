{
 "cells": [
  {
   "cell_type": "raw",
   "id": "4c6b436b",
   "metadata": {},
   "source": [
    "---\n",
    "title: Conda Cheat Sheet\n",
    "date: '2023-03-18'\n",
    "categories:\n",
    "- anaconda\n",
    "draft: true\n",
    "---\n",
    "\n"
   ]
  },
  {
   "cell_type": "markdown",
   "id": "2dfda9dc",
   "metadata": {},
   "source": [
    "## Create a new environment\n",
    "\n",
    "Create a new environment with a given name, and save it to the default location in `~/anaconda3/env/`.\n",
    "\n",
    "```zsh\n",
    "conda create -n myenv jupyter numpy pandas\n",
    "```\n",
    "\n",
    "Create a new environment and save it to a path. This is handy for keeping an environment for a project inside the project directory.\n",
    "\n",
    "```zsh\n",
    "conda create -p ./venv jupyter numpy pandas\n",
    "```\n",
    "\n",
    "## Export an environment\n",
    "Export the currently active environment spec to a yaml file.\n",
    "\n",
    "```zsh\n",
    "conda env export > environment.yml\n",
    "```\n",
    "\n",
    "Export only the list of packages that were explicitly installed (better for cross-platform support since full environment will contain system-specific dependencies).\n",
    "\n",
    "```zsh\n",
    "conda env export --from-history > environment.yml\n",
    "```\n",
    "\n",
    "## Create an environment from an environment yml\n",
    "\n",
    "Create an environment from a yml spec\n",
    "\n",
    "```zsh\n",
    "conda env create -f environment.yml\n",
    "```\n",
    "\n",
    "Create an environment from a yml file and save it to a path, rather than inside the anaconda directory.\n",
    "```zsh\n",
    "conda env create -f environment.yml -p ./venv\n",
    "```\n"
   ]
  },
  {
   "cell_type": "markdown",
   "id": "6a3e9465",
   "metadata": {},
   "source": [
    "## Anaconda and Homebrew\n",
    "\n",
    "Seems to me that you basically just need to make sure you deactivate all conda environments at your shell prompt before using homebrew. See [this post](https://hashrocket.com/blog/posts/keep-anaconda-from-constricting-your-homebrew-installs) for some additional details."
   ]
  }
 ],
 "metadata": {
  "kernelspec": {
   "display_name": "Python 3 (ipykernel)",
   "language": "python",
   "name": "python3"
  },
  "language_info": {
   "codemirror_mode": {
    "name": "ipython",
    "version": 3
   },
   "file_extension": ".py",
   "mimetype": "text/x-python",
   "name": "python",
   "nbconvert_exporter": "python",
   "pygments_lexer": "ipython3",
   "version": "3.9.13"
  }
 },
 "nbformat": 4,
 "nbformat_minor": 5
}
